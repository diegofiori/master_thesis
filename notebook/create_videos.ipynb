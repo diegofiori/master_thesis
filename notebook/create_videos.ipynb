{
 "cells": [
  {
   "cell_type": "code",
   "execution_count": 1,
   "metadata": {},
   "outputs": [],
   "source": [
    "import matplotlib\n",
    "matplotlib.use('TkAgg')\n",
    "import matplotlib.pyplot as plt\n",
    "\n",
    "\n",
    "import numpy as np\n",
    "import sys\n",
    "sys.path.append('/Users/diegofiori/Desktop/epfl/master_thesis/master_thesis/')\n",
    "from input_reader import read_simulation_file, get_all_time_ids\n",
    "from filter import FilterBigComponents\n",
    "from matplotlib.animation import ArtistAnimation\n",
    "from giotto.pipeline import Pipeline\n",
    "from giotto.homology import CubicalPersistence\n",
    "from giotto.diagrams import Scaler, BettiCurve, PersistenceLandscape\n",
    "import matplotlib.cm as cm\n",
    "from tqdm.notebook import tqdm"
   ]
  },
  {
   "cell_type": "code",
   "execution_count": 2,
   "metadata": {},
   "outputs": [
    {
     "data": {
      "text/plain": [
       "\"path = '/Users/diegofiori/Desktop/epfl/master_thesis/Reverse/'\\nspace_index, field = 0, 'temperature'\\nimg = [] # some array of images\\ntime_ids = get_all_time_ids(path)\\nfor i in tqdm(range(0, len(time_ids), 6)):\\n    simulation_slices = read_simulation_file(path, field, time_ids[i:i+6])\\n    simulation_slices = [simulation_slices[j] for j in range(0, len(simulation_slices), 80)]\\n    img += simulation_slices\""
      ]
     },
     "execution_count": 2,
     "metadata": {},
     "output_type": "execute_result"
    }
   ],
   "source": [
    "\"\"\"path = '/Users/diegofiori/Desktop/epfl/master_thesis/Reverse/'\n",
    "space_index, field = 0, 'temperature'\n",
    "img = [] # some array of images\n",
    "time_ids = get_all_time_ids(path)\n",
    "for i in tqdm(range(0, len(time_ids), 6)):\n",
    "    simulation_slices = read_simulation_file(path, field, time_ids[i:i+6])\n",
    "    simulation_slices = [simulation_slices[j] for j in range(0, len(simulation_slices), 80)]\n",
    "    img += simulation_slices\"\"\""
   ]
  },
  {
   "cell_type": "code",
   "execution_count": 3,
   "metadata": {},
   "outputs": [],
   "source": [
    "from utils import read_pickle\n",
    "img = read_pickle('/Users/diegofiori/Desktop/epfl/master_thesis/results/density2dfield.pickle')"
   ]
  },
  {
   "cell_type": "code",
   "execution_count": 4,
   "metadata": {},
   "outputs": [],
   "source": [
    "def plot_slice_diagram(image, homology_dimensions=(0, 1), figure_plot=None):\n",
    "    cub = CubicalPersistence(homology_dimensions=homology_dimensions)\n",
    "    scaler = Scaler(metric='bottleneck')\n",
    "    pipeline = Pipeline([('diagram', cub),\n",
    "                         ('rescale', scaler)])\n",
    "    diagram = pipeline.fit_transform(np.expand_dims(image, axis=0))\n",
    "\n",
    "    color_dict = {0: '.r', 1: '.b', 2: '.g'}\n",
    "    points = diagram[0, :, :-1]\n",
    "    dims = diagram[0, :, -1]\n",
    "\n",
    "    for hom_dim in homology_dimensions:\n",
    "        hom_points = points[dims == hom_dim]\n",
    "        plt.plot(hom_points[:, 0], hom_points[:, 1], color_dict[hom_dim])\n",
    "    min_b, max_b = np.min(points[:, 0]), np.max(points[:, 0])\n",
    "    figure_plot.plot([min_b, max_b], [min_b, max_b], 'k')"
   ]
  },
  {
   "cell_type": "code",
   "execution_count": 5,
   "metadata": {},
   "outputs": [],
   "source": [
    "def create_video(list_of_images, time_series, avg_field, prec_diags=None, \n",
    "                 interval=50, repeat=True, repeat_delay=100, **fig_params):\n",
    "    flag = True\n",
    "    if prec_diags is None:\n",
    "        pipeline = Pipeline([('cub', CubicalPersistence()), ('rescale', Scaler('bottleneck'))])\n",
    "        diagrams = pipeline.fit_transform(list_of_images)\n",
    "    else:\n",
    "        diagrams = prec_diags\n",
    "    betti_curves = BettiCurve(n_values=50).fit_transform(diagrams)\n",
    "    landscapes = PersistenceLandscape(n_layers=10, n_values=50).fit_transform(diagrams)\n",
    "    homology_dimensions = np.unique(diagrams[0, :, -1])\n",
    "    color_dict = {0: '.r', 1: '.b', 2: '.g'}\n",
    "    color_dict_land = {0: 'r', 1: 'b', 2: 'g'}\n",
    "    fig = plt.figure(**fig_params)\n",
    "    viewer_1 = fig.add_subplot(231)\n",
    "    viewer_2 = fig.add_subplot(232)\n",
    "    viewer_3 = fig.add_subplot(233)\n",
    "    viewer_4 = fig.add_subplot(234)\n",
    "    viewer_5 = fig.add_subplot(235)\n",
    "    viewer_6 = fig.add_subplot(236)\n",
    "    fig.show()\n",
    "    plt.ion()\n",
    "    while flag:\n",
    "        try:\n",
    "            for i, image in enumerate(list_of_images):\n",
    "                viewer_1.clear()\n",
    "                viewer_1.imshow(image)\n",
    "                viewer_2.clear()\n",
    "                viewer_2.plot(time_series)\n",
    "                viewer_2.plot([i, i], [np.min(time_series), np.max(time_series)])\n",
    "                viewer_3.clear()\n",
    "                viewer_3.plot(avg_field)\n",
    "                viewer_3.plot([i, i], [np.min(avg_field), np.max(avg_field)])\n",
    "                viewer_4.clear()\n",
    "                diagram = diagrams[i]\n",
    "                points = diagram[:, :-1]\n",
    "                dims = diagram[:, -1]\n",
    "                for hom_dim in homology_dimensions:\n",
    "                    hom_points = points[dims == hom_dim]\n",
    "                    viewer_4.plot(hom_points[:, 0], hom_points[:, 1], color_dict[hom_dim])\n",
    "                    min_b, max_b = np.min(points[:, 0]), np.max(points[:, 0])\n",
    "                    viewer_4.plot([min_b, max_b], [min_b, max_b], 'k')\n",
    "                viewer_5.clear()\n",
    "                for hom_dim in homology_dimensions:\n",
    "                    viewer_5.plot(np.arange(50), betti_curves[i, int(hom_dim), :], \n",
    "                                  color_dict_land[hom_dim])\n",
    "                viewer_6.clear()\n",
    "                for hom_dim in homology_dimensions:\n",
    "                    for layer in range(10):\n",
    "                        viewer_6.plot(np.arange(50), landscapes[i, int(hom_dim), layer, :], \n",
    "                                      color_dict_land[hom_dim])\n",
    "                plt.pause(interval/1000)\n",
    "            if repeat:\n",
    "                plt.pause(repeat_delay/1000)\n",
    "            else:\n",
    "                flag = False\n",
    "        except KeyboardInterrupt:\n",
    "            flag = False"
   ]
  },
  {
   "cell_type": "markdown",
   "metadata": {},
   "source": [
    "## CompSnow"
   ]
  },
  {
   "cell_type": "code",
   "execution_count": 6,
   "metadata": {},
   "outputs": [],
   "source": [
    "top_features = read_pickle('/Users/diegofiori/Desktop/epfl/master_thesis/results/slices_top_features_end_cs.pickle')"
   ]
  },
  {
   "cell_type": "code",
   "execution_count": 7,
   "metadata": {},
   "outputs": [
    {
     "data": {
      "text/plain": [
       "(4, 7680, 11134)"
      ]
     },
     "execution_count": 7,
     "metadata": {},
     "output_type": "execute_result"
    }
   ],
   "source": [
    "top_features.shape"
   ]
  },
  {
   "cell_type": "code",
   "execution_count": 9,
   "metadata": {
    "scrolled": true
   },
   "outputs": [],
   "source": [
    "top_features = np.concatenate([np.expand_dims(top_features[:, i:i+80, :], axis=1) \n",
    "                               for i in range(0, top_features.shape[1], 80)], axis=1)"
   ]
  },
  {
   "cell_type": "code",
   "execution_count": 10,
   "metadata": {},
   "outputs": [
    {
     "data": {
      "text/plain": [
       "(4, 96, 80, 11134)"
      ]
     },
     "execution_count": 10,
     "metadata": {},
     "output_type": "execute_result"
    }
   ],
   "source": [
    "top_features.shape"
   ]
  },
  {
   "cell_type": "code",
   "execution_count": 11,
   "metadata": {},
   "outputs": [],
   "source": [
    "top_feat_index = read_pickle('/Users/diegofiori/Desktop/epfl/master_thesis/results/selected_index_cs.pickle')"
   ]
  },
  {
   "cell_type": "code",
   "execution_count": 12,
   "metadata": {},
   "outputs": [
    {
     "data": {
      "text/plain": [
       "88"
      ]
     },
     "execution_count": 12,
     "metadata": {},
     "output_type": "execute_result"
    }
   ],
   "source": [
    "len(top_feat_index)"
   ]
  },
  {
   "cell_type": "code",
   "execution_count": 13,
   "metadata": {},
   "outputs": [],
   "source": [
    "for index in top_feat_index[:3]:\n",
    "    plt.figure()\n",
    "    plt.plot(top_features[index[0], :, 0, index[1]])"
   ]
  },
  {
   "cell_type": "code",
   "execution_count": 14,
   "metadata": {},
   "outputs": [],
   "source": [
    "index = top_feat_index[0]\n",
    "time_series = top_features[index[0], :, 0, index[1]]"
   ]
  },
  {
   "cell_type": "code",
   "execution_count": 15,
   "metadata": {},
   "outputs": [],
   "source": [
    "density = read_pickle('/Users/diegofiori/Desktop/epfl/master_thesis/results/physical_features_cs.pickle')"
   ]
  },
  {
   "cell_type": "code",
   "execution_count": 16,
   "metadata": {},
   "outputs": [],
   "source": [
    "density = np.concatenate(density)"
   ]
  },
  {
   "cell_type": "code",
   "execution_count": 17,
   "metadata": {},
   "outputs": [
    {
     "data": {
      "text/plain": [
       "(2, 0)"
      ]
     },
     "execution_count": 17,
     "metadata": {},
     "output_type": "execute_result"
    }
   ],
   "source": [
    "top_feat_index[0]"
   ]
  },
  {
   "cell_type": "code",
   "execution_count": 18,
   "metadata": {},
   "outputs": [
    {
     "data": {
      "text/plain": [
       "(1888,)"
      ]
     },
     "execution_count": 18,
     "metadata": {},
     "output_type": "execute_result"
    }
   ],
   "source": [
    "density.shape"
   ]
  },
  {
   "cell_type": "code",
   "execution_count": 19,
   "metadata": {},
   "outputs": [],
   "source": [
    "density = density[:len(img)]"
   ]
  },
  {
   "cell_type": "code",
   "execution_count": 20,
   "metadata": {},
   "outputs": [],
   "source": [
    "from scipy.io import loadmat\n",
    "temp = loadmat(f'/Users/diegofiori/Desktop/epfl/master_thesis/k_perp_end_cs.mat')\n",
    "time_series = temp['k_quantities']"
   ]
  },
  {
   "cell_type": "code",
   "execution_count": 21,
   "metadata": {},
   "outputs": [],
   "source": [
    "time_series = time_series[:, 0, 0]"
   ]
  },
  {
   "cell_type": "code",
   "execution_count": 22,
   "metadata": {},
   "outputs": [],
   "source": [
    "pipeline = Pipeline([('diag', CubicalPersistence()), \n",
    "                     ('scaler', Scaler()), \n",
    "                     ('filter', FilterBigComponents())\n",
    "                    ])\n",
    "precomp_diagrams = pipeline.fit_transform(img[-100:])"
   ]
  },
  {
   "cell_type": "code",
   "execution_count": 23,
   "metadata": {},
   "outputs": [
    {
     "data": {
      "text/plain": [
       "(100, 1610, 3)"
      ]
     },
     "execution_count": 23,
     "metadata": {},
     "output_type": "execute_result"
    }
   ],
   "source": [
    "precomp_diagrams.shape"
   ]
  },
  {
   "cell_type": "code",
   "execution_count": 24,
   "metadata": {
    "scrolled": true
   },
   "outputs": [],
   "source": [
    "create_video(img[-100:], time_series[-100:], density[-100:], prec_diags=precomp_diagrams, \n",
    "             interval=.1, repeat_delay=1000)"
   ]
  },
  {
   "cell_type": "markdown",
   "metadata": {},
   "source": [
    "# EM_Large"
   ]
  },
  {
   "cell_type": "code",
   "execution_count": null,
   "metadata": {},
   "outputs": [],
   "source": [
    "img_eml = read_pickle('/Users/diegofiori/Desktop/epfl/master_thesis/results/density2dfield_eml.pickle')"
   ]
  },
  {
   "cell_type": "code",
   "execution_count": null,
   "metadata": {},
   "outputs": [],
   "source": [
    "top_features_large = read_pickle('/Users/diegofiori/Desktop/epfl/master_thesis/results/slices_top_features_em.pickle')"
   ]
  },
  {
   "cell_type": "code",
   "execution_count": null,
   "metadata": {},
   "outputs": [],
   "source": [
    "top_features_large = np.concatenate([np.expand_dims(top_features_large[:, i:i+80, :], axis=1) \n",
    "                                     for i in range(0, top_features_large.shape[1], 80)], axis=1)"
   ]
  },
  {
   "cell_type": "code",
   "execution_count": null,
   "metadata": {},
   "outputs": [],
   "source": [
    "for index in top_feat_index[:3]:\n",
    "    plt.figure()\n",
    "    plt.plot(top_features_large[index[0], :, index[1], index[2]])"
   ]
  },
  {
   "cell_type": "code",
   "execution_count": 22,
   "metadata": {},
   "outputs": [
    {
     "ename": "NameError",
     "evalue": "name 'top_features_large' is not defined",
     "output_type": "error",
     "traceback": [
      "\u001b[0;31m---------------------------------------------------------------------------\u001b[0m",
      "\u001b[0;31mNameError\u001b[0m                                 Traceback (most recent call last)",
      "\u001b[0;32m<ipython-input-22-110101feaa11>\u001b[0m in \u001b[0;36m<module>\u001b[0;34m\u001b[0m\n\u001b[1;32m      1\u001b[0m \u001b[0mindex\u001b[0m \u001b[0;34m=\u001b[0m \u001b[0mtop_feat_index\u001b[0m\u001b[0;34m[\u001b[0m\u001b[0;36m0\u001b[0m\u001b[0;34m]\u001b[0m\u001b[0;34m\u001b[0m\u001b[0;34m\u001b[0m\u001b[0m\n\u001b[0;32m----> 2\u001b[0;31m \u001b[0mtime_series_eml\u001b[0m \u001b[0;34m=\u001b[0m \u001b[0mtop_features_large\u001b[0m\u001b[0;34m[\u001b[0m\u001b[0mindex\u001b[0m\u001b[0;34m[\u001b[0m\u001b[0;36m0\u001b[0m\u001b[0;34m]\u001b[0m\u001b[0;34m,\u001b[0m \u001b[0;34m:\u001b[0m\u001b[0;34m,\u001b[0m \u001b[0mindex\u001b[0m\u001b[0;34m[\u001b[0m\u001b[0;36m1\u001b[0m\u001b[0;34m]\u001b[0m\u001b[0;34m,\u001b[0m \u001b[0mindex\u001b[0m\u001b[0;34m[\u001b[0m\u001b[0;36m2\u001b[0m\u001b[0;34m]\u001b[0m\u001b[0;34m]\u001b[0m\u001b[0;34m\u001b[0m\u001b[0;34m\u001b[0m\u001b[0m\n\u001b[0m",
      "\u001b[0;31mNameError\u001b[0m: name 'top_features_large' is not defined"
     ]
    }
   ],
   "source": [
    "index = top_feat_index[0]\n",
    "time_series_eml = top_features_large[index[0], :, index[1], index[2]]"
   ]
  },
  {
   "cell_type": "code",
   "execution_count": 28,
   "metadata": {},
   "outputs": [],
   "source": [
    "density_eml = read_pickle('/Users/diegofiori/Desktop/epfl/master_thesis/results/physical_features_em.pickle')\n",
    "density_eml = np.concatenate(density_eml)"
   ]
  },
  {
   "cell_type": "code",
   "execution_count": 29,
   "metadata": {},
   "outputs": [],
   "source": [
    "plt.plot(density_eml)\n",
    "plt.show()"
   ]
  },
  {
   "cell_type": "code",
   "execution_count": 30,
   "metadata": {},
   "outputs": [],
   "source": [
    "density_eml = density_eml[:len(img_eml)]"
   ]
  },
  {
   "cell_type": "code",
   "execution_count": 31,
   "metadata": {},
   "outputs": [],
   "source": [
    "# create_video(img_eml[::4], time_series_eml[::4], interval=.1, repeat_delay=1000)\n",
    "create_video(img_eml, time_series_eml, interval=.1, repeat_delay=1000)"
   ]
  },
  {
   "cell_type": "code",
   "execution_count": null,
   "metadata": {},
   "outputs": [],
   "source": []
  }
 ],
 "metadata": {
  "kernelspec": {
   "display_name": "Python 3",
   "language": "python",
   "name": "python3"
  },
  "language_info": {
   "codemirror_mode": {
    "name": "ipython",
    "version": 3
   },
   "file_extension": ".py",
   "mimetype": "text/x-python",
   "name": "python",
   "nbconvert_exporter": "python",
   "pygments_lexer": "ipython3",
   "version": "3.6.9"
  }
 },
 "nbformat": 4,
 "nbformat_minor": 2
}
