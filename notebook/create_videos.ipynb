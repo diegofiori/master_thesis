{
 "cells": [
  {
   "cell_type": "code",
   "execution_count": 1,
   "metadata": {},
   "outputs": [],
   "source": [
    "import matplotlib\n",
    "matplotlib.use('TkAgg')\n",
    "import matplotlib.pyplot as plt\n",
    "\n",
    "\n",
    "import numpy as np\n",
    "import sys\n",
    "sys.path.append('/Users/diegofiori/Desktop/epfl/master_thesis/master_thesis/')\n",
    "from input_reader import read_simulation_file, get_all_time_ids\n",
    "from matplotlib.animation import ArtistAnimation\n",
    "\n",
    "import matplotlib.cm as cm\n",
    "from tqdm.notebook import tqdm"
   ]
  },
  {
   "cell_type": "code",
   "execution_count": 2,
   "metadata": {},
   "outputs": [
    {
     "data": {
      "text/plain": [
       "\"path = '/Users/diegofiori/Desktop/epfl/master_thesis/Reverse/'\\nspace_index, field = 0, 'temperature'\\nimg = [] # some array of images\\ntime_ids = get_all_time_ids(path)\\nfor i in tqdm(range(0, len(time_ids), 6)):\\n    simulation_slices = read_simulation_file(path, field, time_ids[i:i+6])\\n    simulation_slices = [simulation_slices[j] for j in range(0, len(simulation_slices), 80)]\\n    img += simulation_slices\""
      ]
     },
     "execution_count": 2,
     "metadata": {},
     "output_type": "execute_result"
    }
   ],
   "source": [
    "\"\"\"path = '/Users/diegofiori/Desktop/epfl/master_thesis/Reverse/'\n",
    "space_index, field = 0, 'temperature'\n",
    "img = [] # some array of images\n",
    "time_ids = get_all_time_ids(path)\n",
    "for i in tqdm(range(0, len(time_ids), 6)):\n",
    "    simulation_slices = read_simulation_file(path, field, time_ids[i:i+6])\n",
    "    simulation_slices = [simulation_slices[j] for j in range(0, len(simulation_slices), 80)]\n",
    "    img += simulation_slices\"\"\""
   ]
  },
  {
   "cell_type": "code",
   "execution_count": 3,
   "metadata": {},
   "outputs": [],
   "source": [
    "from utils import read_pickle\n",
    "img = read_pickle('/Users/diegofiori/Desktop/epfl/master_thesis/results/density2dfield.pickle')"
   ]
  },
  {
   "cell_type": "code",
   "execution_count": 31,
   "metadata": {},
   "outputs": [],
   "source": [
    "def create_video(list_of_images, time_series, interval=50, repeat=True, repeat_delay=100, **fig_params):\n",
    "    flag = True\n",
    "    fig = plt.figure(**fig_params)\n",
    "    viewer_1 = fig.add_subplot(121)\n",
    "    viewer_2 = fig.add_subplot(122)\n",
    "    fig.show()\n",
    "    plt.ion()\n",
    "    while flag:\n",
    "        try:\n",
    "            for i, image in enumerate(list_of_images):\n",
    "                viewer_1.clear()\n",
    "                viewer_1.imshow(image)\n",
    "                viewer_2.clear()\n",
    "                viewer_2.plot(time_series)\n",
    "                viewer_2.plot([i, i], [np.min(time_series), np.max(time_series)])\n",
    "                plt.pause(interval/1000)\n",
    "            if repeat:\n",
    "                plt.pause(repeat_delay/1000)\n",
    "            else:\n",
    "                flag = False\n",
    "        except KeyboardInterrupt:\n",
    "            flag = False"
   ]
  },
  {
   "cell_type": "code",
   "execution_count": 10,
   "metadata": {},
   "outputs": [],
   "source": [
    "top_features = read_pickle('/Users/diegofiori/Desktop/epfl/master_thesis/results/slices_top_features_cs.pickle')"
   ]
  },
  {
   "cell_type": "code",
   "execution_count": 11,
   "metadata": {},
   "outputs": [
    {
     "data": {
      "text/plain": [
       "(3, 150720, 34)"
      ]
     },
     "execution_count": 11,
     "metadata": {},
     "output_type": "execute_result"
    }
   ],
   "source": [
    "top_features.shape"
   ]
  },
  {
   "cell_type": "code",
   "execution_count": 12,
   "metadata": {},
   "outputs": [],
   "source": [
    "top_features = np.concatenate([np.expand_dims(top_features[:, i:i+80, :], axis=1) \n",
    "                               for i in range(0, top_features.shape[1], 80)], axis=1)"
   ]
  },
  {
   "cell_type": "code",
   "execution_count": 13,
   "metadata": {},
   "outputs": [
    {
     "data": {
      "text/plain": [
       "(3, 1884, 80, 34)"
      ]
     },
     "execution_count": 13,
     "metadata": {},
     "output_type": "execute_result"
    }
   ],
   "source": [
    "top_features.shape"
   ]
  },
  {
   "cell_type": "code",
   "execution_count": 7,
   "metadata": {},
   "outputs": [],
   "source": [
    "top_feat_index = read_pickle('/Users/diegofiori/Desktop/epfl/master_thesis/results/selected_index_cs.pickle')"
   ]
  },
  {
   "cell_type": "code",
   "execution_count": 9,
   "metadata": {},
   "outputs": [
    {
     "data": {
      "text/plain": [
       "510"
      ]
     },
     "execution_count": 9,
     "metadata": {},
     "output_type": "execute_result"
    }
   ],
   "source": [
    "len(top_feat_index)"
   ]
  },
  {
   "cell_type": "code",
   "execution_count": 44,
   "metadata": {},
   "outputs": [],
   "source": [
    "for index in top_feat_index[:3]:\n",
    "    plt.figure()\n",
    "    plt.plot(top_features[index[0], :, index[1], index[2]])"
   ]
  },
  {
   "cell_type": "code",
   "execution_count": 51,
   "metadata": {},
   "outputs": [],
   "source": [
    "index = top_feat_index[0]\n",
    "time_series = top_features[index[0], :, index[1], index[2]]"
   ]
  },
  {
   "cell_type": "code",
   "execution_count": 20,
   "metadata": {},
   "outputs": [],
   "source": [
    "density = read_pickle('/Users/diegofiori/Desktop/epfl/master_thesis/results/physical_features_cs.pickle')"
   ]
  },
  {
   "cell_type": "code",
   "execution_count": 23,
   "metadata": {},
   "outputs": [],
   "source": [
    "density = np.concatenate(density)"
   ]
  },
  {
   "cell_type": "code",
   "execution_count": 49,
   "metadata": {},
   "outputs": [
    {
     "data": {
      "text/plain": [
       "(2, 29, 0)"
      ]
     },
     "execution_count": 49,
     "metadata": {},
     "output_type": "execute_result"
    }
   ],
   "source": [
    "top_feat_index[0]"
   ]
  },
  {
   "cell_type": "code",
   "execution_count": 25,
   "metadata": {},
   "outputs": [
    {
     "data": {
      "text/plain": [
       "(1888,)"
      ]
     },
     "execution_count": 25,
     "metadata": {},
     "output_type": "execute_result"
    }
   ],
   "source": [
    "density.shape"
   ]
  },
  {
   "cell_type": "code",
   "execution_count": 28,
   "metadata": {},
   "outputs": [],
   "source": [
    "plt.plot(density)\n",
    "plt.show()"
   ]
  },
  {
   "cell_type": "code",
   "execution_count": 29,
   "metadata": {},
   "outputs": [],
   "source": [
    "density = density[:len(img)]"
   ]
  },
  {
   "cell_type": "code",
   "execution_count": 43,
   "metadata": {},
   "outputs": [],
   "source": [
    "create_video(img[1000:], density[1000:], interval=.1, repeat_delay=1000)"
   ]
  },
  {
   "cell_type": "code",
   "execution_count": 54,
   "metadata": {
    "scrolled": true
   },
   "outputs": [],
   "source": [
    "create_video(img[::4], time_series[::4], interval=.1, repeat_delay=1000)"
   ]
  },
  {
   "cell_type": "code",
   "execution_count": null,
   "metadata": {},
   "outputs": [],
   "source": []
  },
  {
   "cell_type": "code",
   "execution_count": null,
   "metadata": {},
   "outputs": [],
   "source": []
  }
 ],
 "metadata": {
  "kernelspec": {
   "display_name": "Python 3",
   "language": "python",
   "name": "python3"
  },
  "language_info": {
   "codemirror_mode": {
    "name": "ipython",
    "version": 3
   },
   "file_extension": ".py",
   "mimetype": "text/x-python",
   "name": "python",
   "nbconvert_exporter": "python",
   "pygments_lexer": "ipython3",
   "version": "3.6.9"
  }
 },
 "nbformat": 4,
 "nbformat_minor": 2
}
