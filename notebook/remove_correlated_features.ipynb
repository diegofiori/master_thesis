{
 "cells": [
  {
   "cell_type": "code",
   "execution_count": 1,
   "metadata": {},
   "outputs": [],
   "source": [
    "import numpy as np\n",
    "import pandas as pd\n",
    "import sys\n",
    "sys.path.append('/Users/diegofiori/Desktop/epfl/master_thesis/master_thesis/')\n",
    "from utils import read_pickle\n",
    "from tqdm.notebook import tqdm"
   ]
  },
  {
   "cell_type": "code",
   "execution_count": 2,
   "metadata": {},
   "outputs": [],
   "source": [
    "path = '/Users/diegofiori/Desktop/epfl/master_thesis/results/'\n",
    "sim_code = 'cs'\n",
    "density = read_pickle(path+f'physical_features_{sim_code}.pickle')\n",
    "slices = read_pickle(path+f'slices_top_features_{sim_code}.pickle')"
   ]
  },
  {
   "cell_type": "code",
   "execution_count": 3,
   "metadata": {},
   "outputs": [],
   "source": [
    "density = np.concatenate(density)"
   ]
  },
  {
   "cell_type": "code",
   "execution_count": 4,
   "metadata": {},
   "outputs": [
    {
     "data": {
      "text/plain": [
       "(1888,)"
      ]
     },
     "execution_count": 4,
     "metadata": {},
     "output_type": "execute_result"
    }
   ],
   "source": [
    "density.shape"
   ]
  },
  {
   "cell_type": "code",
   "execution_count": 5,
   "metadata": {},
   "outputs": [
    {
     "data": {
      "text/plain": [
       "(3, 150720, 34)"
      ]
     },
     "execution_count": 5,
     "metadata": {},
     "output_type": "execute_result"
    }
   ],
   "source": [
    "slices.shape"
   ]
  },
  {
   "cell_type": "code",
   "execution_count": 6,
   "metadata": {},
   "outputs": [],
   "source": [
    "slices = [slices[:, i:i+80] for i in range(0, slices.shape[1], 80)]"
   ]
  },
  {
   "cell_type": "code",
   "execution_count": 7,
   "metadata": {},
   "outputs": [],
   "source": [
    "slices = np.concatenate([np.expand_dims(slice_, axis=1) for slice_ in slices], axis=1)"
   ]
  },
  {
   "cell_type": "code",
   "execution_count": 8,
   "metadata": {},
   "outputs": [
    {
     "data": {
      "text/plain": [
       "(3, 1884, 80, 34)"
      ]
     },
     "execution_count": 8,
     "metadata": {},
     "output_type": "execute_result"
    }
   ],
   "source": [
    "slices.shape"
   ]
  },
  {
   "cell_type": "code",
   "execution_count": 9,
   "metadata": {},
   "outputs": [],
   "source": [
    "indexes = []\n",
    "arrays = []\n",
    "for i in range(slices.shape[0]):\n",
    "    for j in range(0, slices.shape[2]):\n",
    "        for k in range(slices.shape[3]):\n",
    "            arrays.append(slices[i, :, j, k].reshape((-1, 1)))\n",
    "            indexes.append((i, j, k))\n",
    "df = pd.DataFrame(data=np.concatenate(arrays, axis=1), columns=indexes)"
   ]
  },
  {
   "cell_type": "code",
   "execution_count": 10,
   "metadata": {},
   "outputs": [
    {
     "data": {
      "text/plain": [
       "(1884, 8160)"
      ]
     },
     "execution_count": 10,
     "metadata": {},
     "output_type": "execute_result"
    }
   ],
   "source": [
    "df.shape"
   ]
  },
  {
   "cell_type": "code",
   "execution_count": 11,
   "metadata": {},
   "outputs": [
    {
     "data": {
      "text/html": [
       "<div>\n",
       "<style scoped>\n",
       "    .dataframe tbody tr th:only-of-type {\n",
       "        vertical-align: middle;\n",
       "    }\n",
       "\n",
       "    .dataframe tbody tr th {\n",
       "        vertical-align: top;\n",
       "    }\n",
       "\n",
       "    .dataframe thead th {\n",
       "        text-align: right;\n",
       "    }\n",
       "</style>\n",
       "<table border=\"1\" class=\"dataframe\">\n",
       "  <thead>\n",
       "    <tr style=\"text-align: right;\">\n",
       "      <th></th>\n",
       "      <th>(0, 0, 0)</th>\n",
       "      <th>(0, 0, 1)</th>\n",
       "      <th>(0, 0, 2)</th>\n",
       "      <th>(0, 0, 3)</th>\n",
       "      <th>(0, 0, 4)</th>\n",
       "      <th>(0, 0, 5)</th>\n",
       "      <th>(0, 0, 6)</th>\n",
       "      <th>(0, 0, 7)</th>\n",
       "      <th>(0, 0, 8)</th>\n",
       "      <th>(0, 0, 9)</th>\n",
       "      <th>...</th>\n",
       "      <th>(2, 79, 24)</th>\n",
       "      <th>(2, 79, 25)</th>\n",
       "      <th>(2, 79, 26)</th>\n",
       "      <th>(2, 79, 27)</th>\n",
       "      <th>(2, 79, 28)</th>\n",
       "      <th>(2, 79, 29)</th>\n",
       "      <th>(2, 79, 30)</th>\n",
       "      <th>(2, 79, 31)</th>\n",
       "      <th>(2, 79, 32)</th>\n",
       "      <th>(2, 79, 33)</th>\n",
       "    </tr>\n",
       "  </thead>\n",
       "  <tbody>\n",
       "    <tr>\n",
       "      <td>0</td>\n",
       "      <td>0.015552</td>\n",
       "      <td>0.013046</td>\n",
       "      <td>0.218468</td>\n",
       "      <td>0.218468</td>\n",
       "      <td>0.218710</td>\n",
       "      <td>0.218716</td>\n",
       "      <td>0.218468</td>\n",
       "      <td>0.218468</td>\n",
       "      <td>0.023863</td>\n",
       "      <td>0.023863</td>\n",
       "      <td>...</td>\n",
       "      <td>0.320736</td>\n",
       "      <td>0.320736</td>\n",
       "      <td>0.122949</td>\n",
       "      <td>0.122949</td>\n",
       "      <td>0.000000e+00</td>\n",
       "      <td>0.000000e+00</td>\n",
       "      <td>0.000000</td>\n",
       "      <td>0.000000</td>\n",
       "      <td>0.000000</td>\n",
       "      <td>0.000000</td>\n",
       "    </tr>\n",
       "    <tr>\n",
       "      <td>1</td>\n",
       "      <td>0.002504</td>\n",
       "      <td>0.000757</td>\n",
       "      <td>0.000004</td>\n",
       "      <td>0.000004</td>\n",
       "      <td>0.007596</td>\n",
       "      <td>0.007634</td>\n",
       "      <td>0.000096</td>\n",
       "      <td>0.000097</td>\n",
       "      <td>0.000000</td>\n",
       "      <td>0.000000</td>\n",
       "      <td>...</td>\n",
       "      <td>0.691308</td>\n",
       "      <td>0.691308</td>\n",
       "      <td>0.227454</td>\n",
       "      <td>0.227454</td>\n",
       "      <td>2.776021e-06</td>\n",
       "      <td>2.797134e-06</td>\n",
       "      <td>0.000069</td>\n",
       "      <td>0.000275</td>\n",
       "      <td>0.000009</td>\n",
       "      <td>0.000021</td>\n",
       "    </tr>\n",
       "    <tr>\n",
       "      <td>2</td>\n",
       "      <td>8.843659</td>\n",
       "      <td>9.419680</td>\n",
       "      <td>1.000000</td>\n",
       "      <td>1.000000</td>\n",
       "      <td>1.000148</td>\n",
       "      <td>1.000155</td>\n",
       "      <td>1.000000</td>\n",
       "      <td>1.000000</td>\n",
       "      <td>0.499949</td>\n",
       "      <td>0.499949</td>\n",
       "      <td>...</td>\n",
       "      <td>0.228067</td>\n",
       "      <td>0.228067</td>\n",
       "      <td>0.115696</td>\n",
       "      <td>0.115696</td>\n",
       "      <td>5.559640e-07</td>\n",
       "      <td>5.559475e-07</td>\n",
       "      <td>0.000006</td>\n",
       "      <td>0.000014</td>\n",
       "      <td>0.000002</td>\n",
       "      <td>0.000003</td>\n",
       "    </tr>\n",
       "    <tr>\n",
       "      <td>3</td>\n",
       "      <td>0.004740</td>\n",
       "      <td>0.002396</td>\n",
       "      <td>0.218465</td>\n",
       "      <td>0.218465</td>\n",
       "      <td>0.218658</td>\n",
       "      <td>0.218657</td>\n",
       "      <td>0.218465</td>\n",
       "      <td>0.218465</td>\n",
       "      <td>0.023857</td>\n",
       "      <td>0.023857</td>\n",
       "      <td>...</td>\n",
       "      <td>0.160403</td>\n",
       "      <td>0.160403</td>\n",
       "      <td>0.052572</td>\n",
       "      <td>0.052572</td>\n",
       "      <td>5.575423e-07</td>\n",
       "      <td>5.573634e-07</td>\n",
       "      <td>0.000004</td>\n",
       "      <td>0.000017</td>\n",
       "      <td>0.000001</td>\n",
       "      <td>0.000003</td>\n",
       "    </tr>\n",
       "    <tr>\n",
       "      <td>4</td>\n",
       "      <td>0.001981</td>\n",
       "      <td>0.000301</td>\n",
       "      <td>0.000004</td>\n",
       "      <td>0.000004</td>\n",
       "      <td>0.019037</td>\n",
       "      <td>0.019002</td>\n",
       "      <td>0.000182</td>\n",
       "      <td>0.000182</td>\n",
       "      <td>0.000000</td>\n",
       "      <td>0.000000</td>\n",
       "      <td>...</td>\n",
       "      <td>1.368144</td>\n",
       "      <td>1.368144</td>\n",
       "      <td>0.423149</td>\n",
       "      <td>0.423149</td>\n",
       "      <td>5.576061e-07</td>\n",
       "      <td>5.571803e-07</td>\n",
       "      <td>0.000007</td>\n",
       "      <td>0.000027</td>\n",
       "      <td>0.000002</td>\n",
       "      <td>0.000004</td>\n",
       "    </tr>\n",
       "  </tbody>\n",
       "</table>\n",
       "<p>5 rows × 8160 columns</p>\n",
       "</div>"
      ],
      "text/plain": [
       "   (0, 0, 0)  (0, 0, 1)  (0, 0, 2)  (0, 0, 3)  (0, 0, 4)  (0, 0, 5)  \\\n",
       "0   0.015552   0.013046   0.218468   0.218468   0.218710   0.218716   \n",
       "1   0.002504   0.000757   0.000004   0.000004   0.007596   0.007634   \n",
       "2   8.843659   9.419680   1.000000   1.000000   1.000148   1.000155   \n",
       "3   0.004740   0.002396   0.218465   0.218465   0.218658   0.218657   \n",
       "4   0.001981   0.000301   0.000004   0.000004   0.019037   0.019002   \n",
       "\n",
       "   (0, 0, 6)  (0, 0, 7)  (0, 0, 8)  (0, 0, 9)  ...  (2, 79, 24)  (2, 79, 25)  \\\n",
       "0   0.218468   0.218468   0.023863   0.023863  ...     0.320736     0.320736   \n",
       "1   0.000096   0.000097   0.000000   0.000000  ...     0.691308     0.691308   \n",
       "2   1.000000   1.000000   0.499949   0.499949  ...     0.228067     0.228067   \n",
       "3   0.218465   0.218465   0.023857   0.023857  ...     0.160403     0.160403   \n",
       "4   0.000182   0.000182   0.000000   0.000000  ...     1.368144     1.368144   \n",
       "\n",
       "   (2, 79, 26)  (2, 79, 27)   (2, 79, 28)   (2, 79, 29)  (2, 79, 30)  \\\n",
       "0     0.122949     0.122949  0.000000e+00  0.000000e+00     0.000000   \n",
       "1     0.227454     0.227454  2.776021e-06  2.797134e-06     0.000069   \n",
       "2     0.115696     0.115696  5.559640e-07  5.559475e-07     0.000006   \n",
       "3     0.052572     0.052572  5.575423e-07  5.573634e-07     0.000004   \n",
       "4     0.423149     0.423149  5.576061e-07  5.571803e-07     0.000007   \n",
       "\n",
       "   (2, 79, 31)  (2, 79, 32)  (2, 79, 33)  \n",
       "0     0.000000     0.000000     0.000000  \n",
       "1     0.000275     0.000009     0.000021  \n",
       "2     0.000014     0.000002     0.000003  \n",
       "3     0.000017     0.000001     0.000003  \n",
       "4     0.000027     0.000002     0.000004  \n",
       "\n",
       "[5 rows x 8160 columns]"
      ]
     },
     "execution_count": 11,
     "metadata": {},
     "output_type": "execute_result"
    }
   ],
   "source": [
    "df.head()"
   ]
  },
  {
   "cell_type": "markdown",
   "metadata": {},
   "source": [
    "## Selecting features based on RandomForest"
   ]
  },
  {
   "cell_type": "markdown",
   "metadata": {},
   "source": [
    "We firstly defined the regression problem."
   ]
  },
  {
   "cell_type": "code",
   "execution_count": 12,
   "metadata": {},
   "outputs": [],
   "source": [
    "import h5py"
   ]
  },
  {
   "cell_type": "code",
   "execution_count": 13,
   "metadata": {},
   "outputs": [],
   "source": [
    "from scipy.io import loadmat\n",
    "is_before = False\n",
    "if is_before:\n",
    "    x1 = loadmat(f'/Users/diegofiori/Desktop/epfl/master_thesis/k_perp_{sim_code}1.mat')['k_quantities']\n",
    "    x2 = loadmat(f'/Users/diegofiori/Desktop/epfl/master_thesis/k_perp_{sim_code}2.mat')['k_quantities']\n",
    "    y = np.concatenate([x1, x2])\n",
    "else:\n",
    "    x = loadmat(f'/Users/diegofiori/Desktop/epfl/master_thesis/k_perp_{sim_code}.mat')\n",
    "    y = x['k_quantities']"
   ]
  },
  {
   "cell_type": "code",
   "execution_count": 14,
   "metadata": {},
   "outputs": [],
   "source": [
    "y = y[:len(df)]"
   ]
  },
  {
   "cell_type": "code",
   "execution_count": 15,
   "metadata": {},
   "outputs": [],
   "source": [
    "non_zero_ind = np.any(y>0, axis=1)"
   ]
  },
  {
   "cell_type": "code",
   "execution_count": 16,
   "metadata": {},
   "outputs": [],
   "source": [
    "y1 = y[non_zero_ind, 0]\n",
    "y2 = y[non_zero_ind, 1]"
   ]
  },
  {
   "cell_type": "code",
   "execution_count": 17,
   "metadata": {},
   "outputs": [],
   "source": [
    "X = df.values[non_zero_ind]"
   ]
  },
  {
   "cell_type": "code",
   "execution_count": 18,
   "metadata": {},
   "outputs": [],
   "source": [
    "from sklearn.ensemble import RandomForestRegressor\n",
    "from sklearn.model_selection import train_test_split"
   ]
  },
  {
   "cell_type": "code",
   "execution_count": 19,
   "metadata": {},
   "outputs": [],
   "source": [
    "X = np.nan_to_num(X)\n",
    "X_train, X_test, y1_train, y1_test, y2_train, y2_test = train_test_split(X, y1, y2, test_size=0.2)"
   ]
  },
  {
   "cell_type": "code",
   "execution_count": 20,
   "metadata": {},
   "outputs": [
    {
     "data": {
      "text/plain": [
       "RandomForestRegressor(bootstrap=True, criterion='mse', max_depth=None,\n",
       "                      max_features='auto', max_leaf_nodes=None,\n",
       "                      min_impurity_decrease=0.0, min_impurity_split=None,\n",
       "                      min_samples_leaf=1, min_samples_split=2,\n",
       "                      min_weight_fraction_leaf=0.0, n_estimators=100,\n",
       "                      n_jobs=None, oob_score=False, random_state=None,\n",
       "                      verbose=0, warm_start=False)"
      ]
     },
     "execution_count": 20,
     "metadata": {},
     "output_type": "execute_result"
    }
   ],
   "source": [
    "model1 = RandomForestRegressor(n_estimators=100)\n",
    "model1.fit(X_train, y1_train)\n",
    "model2 = RandomForestRegressor(n_estimators=100)\n",
    "model2.fit(X_train, y2_train)"
   ]
  },
  {
   "cell_type": "code",
   "execution_count": 21,
   "metadata": {},
   "outputs": [],
   "source": [
    "score_1 = model1.score(X_test, y1_test)\n",
    "score_2 = model2.score(X_test, y2_test)\n",
    "total_score = score_1 + score_2"
   ]
  },
  {
   "cell_type": "code",
   "execution_count": 22,
   "metadata": {},
   "outputs": [
    {
     "data": {
      "text/plain": [
       "0.8222624941009837"
      ]
     },
     "execution_count": 22,
     "metadata": {},
     "output_type": "execute_result"
    }
   ],
   "source": [
    "score_2"
   ]
  },
  {
   "cell_type": "code",
   "execution_count": 23,
   "metadata": {},
   "outputs": [
    {
     "data": {
      "text/plain": [
       "1.3137104141552607"
      ]
     },
     "execution_count": 23,
     "metadata": {},
     "output_type": "execute_result"
    }
   ],
   "source": [
    "total_score"
   ]
  },
  {
   "cell_type": "code",
   "execution_count": 24,
   "metadata": {},
   "outputs": [
    {
     "data": {
      "text/plain": [
       "array([0.03664259])"
      ]
     },
     "execution_count": 24,
     "metadata": {},
     "output_type": "execute_result"
    }
   ],
   "source": [
    "model1.predict(X_test[19:20])"
   ]
  },
  {
   "cell_type": "code",
   "execution_count": 25,
   "metadata": {},
   "outputs": [
    {
     "data": {
      "text/plain": [
       "0.037950038039069114"
      ]
     },
     "execution_count": 25,
     "metadata": {},
     "output_type": "execute_result"
    }
   ],
   "source": [
    "y1_test[19]"
   ]
  },
  {
   "cell_type": "code",
   "execution_count": 26,
   "metadata": {},
   "outputs": [
    {
     "data": {
      "text/plain": [
       "0.003690385719159677"
      ]
     },
     "execution_count": 26,
     "metadata": {},
     "output_type": "execute_result"
    }
   ],
   "source": [
    "from sklearn.metrics import mean_absolute_error\n",
    "mean_absolute_error(y1_test, model1.predict(X_test))"
   ]
  },
  {
   "cell_type": "code",
   "execution_count": 27,
   "metadata": {},
   "outputs": [
    {
     "name": "stdout",
     "output_type": "stream",
     "text": [
      "relative error\n"
     ]
    },
    {
     "data": {
      "text/plain": [
       "0.10030157474853706"
      ]
     },
     "execution_count": 27,
     "metadata": {},
     "output_type": "execute_result"
    }
   ],
   "source": [
    "print('relative error')\n",
    "mean_absolute_error(y1_test, model1.predict(X_test))/np.mean(y1_test)"
   ]
  },
  {
   "cell_type": "code",
   "execution_count": 28,
   "metadata": {},
   "outputs": [],
   "source": [
    "feature_importance = score_1/total_score*model1.feature_importances_ + score_2/total_score*model2.feature_importances_\n"
   ]
  },
  {
   "cell_type": "code",
   "execution_count": 29,
   "metadata": {},
   "outputs": [],
   "source": [
    "# group the features (we want to keep all the spatial dimensions)\n",
    "n_features = 34\n",
    "feature_importance_temp = [feature_importance[i:i+n_features] for i in range(0, len(feature_importance), n_features)]\n",
    "feature_importance_temp = [np.mean(feature_importance_temp[i:i+80], axis=0) \n",
    "                           for i in range(0, len(feature_importance_temp), 80)]"
   ]
  },
  {
   "cell_type": "code",
   "execution_count": 30,
   "metadata": {},
   "outputs": [],
   "source": [
    "feature_importance_idx = [(i, j) for i in range(len(feature_importance_temp))\n",
    "                          for j in range(n_features)]\n",
    "feature_importance_idx = sorted(feature_importance_idx, reverse=True,\n",
    "                                key=lambda x: feature_importance_temp[x[0]][x[1]])"
   ]
  },
  {
   "cell_type": "code",
   "execution_count": 48,
   "metadata": {},
   "outputs": [],
   "source": [
    "from scipy.stats import pearsonr\n",
    "def compute_correlation_with_old_features(target_feat, old_features_idx, X):\n",
    "    correlations = []\n",
    "    for old_idx in old_features_idx:\n",
    "        old_feat = X[:, old_idx[0]*80*n_features: (old_idx[0]+1)*80*n_features][:, old_idx[1]::n_features]\n",
    "        corr = [pearsonr(target_feat[:, i], old_feat[:, j])[0] for i in range(target_feat.shape[1]) \n",
    "                for j in range(old_feat.shape[1])]\n",
    "        correlations.append(np.min(np.abs(corr)))\n",
    "    return np.array(correlations)"
   ]
  },
  {
   "cell_type": "code",
   "execution_count": 49,
   "metadata": {},
   "outputs": [
    {
     "data": {
      "application/vnd.jupyter.widget-view+json": {
       "model_id": "110ab66e305b412eafe64ee812784b79",
       "version_major": 2,
       "version_minor": 0
      },
      "text/plain": [
       "HBox(children=(IntProgress(value=0, max=102), HTML(value='')))"
      ]
     },
     "metadata": {},
     "output_type": "display_data"
    },
    {
     "name": "stdout",
     "output_type": "stream",
     "text": [
      "\n"
     ]
    }
   ],
   "source": [
    "important_features = []\n",
    "threshold = 0.85\n",
    "minimum_value = 1e-8\n",
    "for idx in tqdm(feature_importance_idx):\n",
    "    feat_value = feature_importance_temp[idx[0]][idx[1]]\n",
    "    if feat_value < minimum_value:\n",
    "        break\n",
    "    feat_mat = X[:, idx[0]*80*n_features: (idx[0]+1)*80*n_features][:, idx[1]::n_features]\n",
    "    if important_features:\n",
    "        corrs = [compute_correlation_with_old_features(feat_mat, important_features, X)]\n",
    "        if np.max(corrs) < threshold:\n",
    "            important_features.append(idx)\n",
    "    else:\n",
    "        important_features.append(idx)\n",
    "    "
   ]
  },
  {
   "cell_type": "code",
   "execution_count": 57,
   "metadata": {},
   "outputs": [],
   "source": [
    "important_features_idx = important_features"
   ]
  },
  {
   "cell_type": "code",
   "execution_count": 58,
   "metadata": {},
   "outputs": [
    {
     "data": {
      "text/plain": [
       "[(2, 31),\n",
       " (1, 1),\n",
       " (1, 16),\n",
       " (2, 33),\n",
       " (0, 31),\n",
       " (2, 1),\n",
       " (2, 0),\n",
       " (0, 17),\n",
       " (2, 29),\n",
       " (1, 29),\n",
       " (0, 29),\n",
       " (0, 28),\n",
       " (1, 28),\n",
       " (2, 28),\n",
       " (1, 32),\n",
       " (2, 18),\n",
       " (0, 32),\n",
       " (2, 32),\n",
       " (0, 23),\n",
       " (2, 25),\n",
       " (0, 18),\n",
       " (0, 21),\n",
       " (0, 20),\n",
       " (1, 20),\n",
       " (0, 24),\n",
       " (0, 22),\n",
       " (0, 25),\n",
       " (1, 22),\n",
       " (0, 14),\n",
       " (0, 27),\n",
       " (1, 21),\n",
       " (2, 26)]"
      ]
     },
     "execution_count": 58,
     "metadata": {},
     "output_type": "execute_result"
    }
   ],
   "source": [
    "important_features_idx"
   ]
  },
  {
   "cell_type": "code",
   "execution_count": 59,
   "metadata": {},
   "outputs": [
    {
     "data": {
      "text/plain": [
       "32"
      ]
     },
     "execution_count": 59,
     "metadata": {},
     "output_type": "execute_result"
    }
   ],
   "source": [
    "len(important_features_idx)"
   ]
  },
  {
   "cell_type": "code",
   "execution_count": 60,
   "metadata": {},
   "outputs": [],
   "source": [
    "from utils import write_pickle\n",
    "write_pickle(path=path+f'selected_index_{sim_code}.pickle', array=important_features_idx)"
   ]
  },
  {
   "cell_type": "code",
   "execution_count": null,
   "metadata": {},
   "outputs": [],
   "source": []
  }
 ],
 "metadata": {
  "kernelspec": {
   "display_name": "Python 3",
   "language": "python",
   "name": "python3"
  },
  "language_info": {
   "codemirror_mode": {
    "name": "ipython",
    "version": 3
   },
   "file_extension": ".py",
   "mimetype": "text/x-python",
   "name": "python",
   "nbconvert_exporter": "python",
   "pygments_lexer": "ipython3",
   "version": "3.6.9"
  }
 },
 "nbformat": 4,
 "nbformat_minor": 2
}
