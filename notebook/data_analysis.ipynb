{
 "cells": [
  {
   "cell_type": "code",
   "execution_count": 1,
   "metadata": {},
   "outputs": [],
   "source": [
    "import numpy as np\n",
    "import sys\n",
    "sys.path.append('/Users/diegofiori/Desktop/epfl/master_thesis/master_thesis/')\n",
    "from utils import read_pickle\n",
    "import matplotlib.pyplot as plt\n",
    "import pandas as pd"
   ]
  },
  {
   "cell_type": "code",
   "execution_count": 2,
   "metadata": {},
   "outputs": [],
   "source": [
    "FILE_PATH = '/Users/diegofiori/Desktop/epfl/master_thesis/results/'\n",
    "sim_code = 'cs'"
   ]
  },
  {
   "cell_type": "code",
   "execution_count": 3,
   "metadata": {},
   "outputs": [],
   "source": [
    "physics_ = read_pickle(FILE_PATH+f'physical_features_end_{sim_code}.pickle')"
   ]
  },
  {
   "cell_type": "code",
   "execution_count": 4,
   "metadata": {},
   "outputs": [],
   "source": [
    "physics_ = np.concatenate([physics_[i] for i in range(len(physics_))])[-100:]"
   ]
  },
  {
   "cell_type": "code",
   "execution_count": 5,
   "metadata": {},
   "outputs": [
    {
     "data": {
      "text/plain": [
       "(100,)"
      ]
     },
     "execution_count": 5,
     "metadata": {},
     "output_type": "execute_result"
    }
   ],
   "source": [
    "physics_.shape"
   ]
  },
  {
   "cell_type": "code",
   "execution_count": 6,
   "metadata": {},
   "outputs": [],
   "source": [
    "density = np.exp(physics_)"
   ]
  },
  {
   "cell_type": "code",
   "execution_count": 7,
   "metadata": {},
   "outputs": [],
   "source": [
    "from scipy.io import loadmat\n",
    "\n",
    "x = loadmat(f'/Users/diegofiori/Desktop/epfl/master_thesis/k_perp_end_{sim_code}.mat')\n",
    "k_perp = x['k_quantities']"
   ]
  },
  {
   "cell_type": "code",
   "execution_count": 8,
   "metadata": {},
   "outputs": [
    {
     "data": {
      "text/plain": [
       "(100, 80, 2)"
      ]
     },
     "execution_count": 8,
     "metadata": {},
     "output_type": "execute_result"
    }
   ],
   "source": [
    "k_perp.shape"
   ]
  },
  {
   "cell_type": "code",
   "execution_count": 9,
   "metadata": {},
   "outputs": [],
   "source": [
    "k_perp = np.concatenate([k_perp[i, :, 0] for i in range(k_perp.shape[0])])"
   ]
  },
  {
   "cell_type": "code",
   "execution_count": 10,
   "metadata": {},
   "outputs": [],
   "source": [
    "def compute_signal_processing_correlation(matrix_ts, target_ts):\n",
    "    correlations = []\n",
    "    for i in range(matrix_ts.shape[1]):\n",
    "        correlations.append(np.correlate(matrix_ts[:, i], target_ts, 'same').reshape((-1, 1)))\n",
    "        \n",
    "    return np.concatenate(correlations, axis=1)"
   ]
  },
  {
   "cell_type": "markdown",
   "metadata": {},
   "source": [
    "# Images Analysis"
   ]
  },
  {
   "cell_type": "code",
   "execution_count": 11,
   "metadata": {},
   "outputs": [],
   "source": [
    "images_complexes = read_pickle(FILE_PATH + f'slices_top_features_end_{sim_code}.pickle')"
   ]
  },
  {
   "cell_type": "code",
   "execution_count": 12,
   "metadata": {},
   "outputs": [],
   "source": [
    "selected_index = read_pickle(FILE_PATH + f'selected_index_{sim_code}.pickle')"
   ]
  },
  {
   "cell_type": "code",
   "execution_count": 13,
   "metadata": {},
   "outputs": [
    {
     "data": {
      "text/plain": [
       "[(2, 0),\n",
       " (0, 10639),\n",
       " (0, 10185),\n",
       " (3, 11030),\n",
       " (2, 6494),\n",
       " (2, 10187),\n",
       " (2, 7),\n",
       " (3, 1),\n",
       " (1, 10385),\n",
       " (1, 4239),\n",
       " (2, 10286),\n",
       " (3, 10830),\n",
       " (3, 5),\n",
       " (1, 10485),\n",
       " (2, 3945),\n",
       " (3, 10231),\n",
       " (3, 2134),\n",
       " (0, 10717),\n",
       " (3, 10230),\n",
       " (0, 10186),\n",
       " (2, 10236),\n",
       " (2, 10699),\n",
       " (3, 10781),\n",
       " (3, 0),\n",
       " (1, 4188),\n",
       " (1, 10186),\n",
       " (3, 10881),\n",
       " (1, 10787),\n",
       " (3, 10931),\n",
       " (3, 10280),\n",
       " (2, 2088),\n",
       " (0, 10236),\n",
       " (3, 30),\n",
       " (0, 10842),\n",
       " (1, 10235),\n",
       " (2, 10639),\n",
       " (2, 21),\n",
       " (2, 6),\n",
       " (2, 10695),\n",
       " (2, 6342),\n",
       " (1, 10185),\n",
       " (3, 11131),\n",
       " (3, 9),\n",
       " (3, 7),\n",
       " (2, 4339),\n",
       " (2, 10),\n",
       " (1, 10737),\n",
       " (3, 2),\n",
       " (1, 10637),\n",
       " (1, 6),\n",
       " (3, 10330),\n",
       " (0, 10692),\n",
       " (2, 10239),\n",
       " (1, 10660),\n",
       " (2, 6440),\n",
       " (2, 10701),\n",
       " (3, 10731),\n",
       " (1, 21),\n",
       " (2, 3),\n",
       " (1, 10740),\n",
       " (0, 10638),\n",
       " (2, 10741),\n",
       " (0, 10699),\n",
       " (0, 10838),\n",
       " (1, 3),\n",
       " (2, 4287),\n",
       " (2, 2036),\n",
       " (1, 10188),\n",
       " (1, 10236),\n",
       " (3, 10730),\n",
       " (0, 10689),\n",
       " (3, 10732),\n",
       " (3, 4),\n",
       " (2, 10186),\n",
       " (3, 10681),\n",
       " (1, 10688),\n",
       " (2, 3996),\n",
       " (1, 10687),\n",
       " (2, 10188),\n",
       " (2, 4440),\n",
       " (3, 18),\n",
       " (3, 4439),\n",
       " (2, 4534),\n",
       " (2, 10193),\n",
       " (2, 10694),\n",
       " (0, 10691),\n",
       " (0, 10637),\n",
       " (3, 2287)]"
      ]
     },
     "execution_count": 13,
     "metadata": {},
     "output_type": "execute_result"
    }
   ],
   "source": [
    "selected_index"
   ]
  },
  {
   "cell_type": "code",
   "execution_count": 14,
   "metadata": {},
   "outputs": [
    {
     "data": {
      "text/plain": [
       "(4, 7680, 11134)"
      ]
     },
     "execution_count": 14,
     "metadata": {},
     "output_type": "execute_result"
    }
   ],
   "source": [
    "images_complexes.shape"
   ]
  },
  {
   "cell_type": "code",
   "execution_count": 15,
   "metadata": {},
   "outputs": [],
   "source": [
    "k_perp = k_perp[:images_complexes.shape[1]]"
   ]
  },
  {
   "cell_type": "code",
   "execution_count": 16,
   "metadata": {},
   "outputs": [],
   "source": [
    "def compute_signal_processing_correlation(feature_ts, target_ts):\n",
    "    return np.correlate(feature_ts, target_ts, 'same')"
   ]
  },
  {
   "cell_type": "code",
   "execution_count": 17,
   "metadata": {},
   "outputs": [
    {
     "data": {
      "application/vnd.jupyter.widget-view+json": {
       "model_id": "72bed6dc080f43e2bbc6152df6afbeae",
       "version_major": 2,
       "version_minor": 0
      },
      "text/plain": [
       "HBox(children=(IntProgress(value=0, max=4), HTML(value='')))"
      ]
     },
     "metadata": {},
     "output_type": "display_data"
    },
    {
     "name": "stdout",
     "output_type": "stream",
     "text": [
      "\n"
     ]
    }
   ],
   "source": [
    "from tqdm.notebook import tqdm\n",
    "correlations_series = []\n",
    "for i in tqdm(range(images_complexes.shape[0])):\n",
    "    for k in range(images_complexes.shape[2]):\n",
    "            if (i, k) in selected_index:\n",
    "                series = pd.Series(data=compute_signal_processing_correlation(images_complexes[i, :, k], k_perp),\n",
    "                                   name=(i, k))\n",
    "                correlations_series.append(series)"
   ]
  },
  {
   "cell_type": "code",
   "execution_count": 18,
   "metadata": {},
   "outputs": [],
   "source": [
    "matrix_corr_images = pd.concat(correlations_series, axis=1)"
   ]
  },
  {
   "cell_type": "code",
   "execution_count": 19,
   "metadata": {},
   "outputs": [
    {
     "data": {
      "text/plain": [
       "(7680, 88)"
      ]
     },
     "execution_count": 19,
     "metadata": {},
     "output_type": "execute_result"
    }
   ],
   "source": [
    "matrix_corr_images.shape"
   ]
  },
  {
   "cell_type": "code",
   "execution_count": 20,
   "metadata": {},
   "outputs": [],
   "source": [
    "matrix_corr_images = matrix_corr_images.loc[:, ~np.isnan(matrix_corr_images.sum(axis=0))]"
   ]
  },
  {
   "cell_type": "code",
   "execution_count": 21,
   "metadata": {},
   "outputs": [
    {
     "name": "stderr",
     "output_type": "stream",
     "text": [
      "/Users/diegofiori/anaconda3/envs/giotto_env/lib/python3.6/site-packages/ipykernel_launcher.py:1: FutureWarning: \n",
      "The current behaviour of 'Series.argmax' is deprecated, use 'idxmax'\n",
      "instead.\n",
      "The behavior of 'argmax' will be corrected to return the positional\n",
      "maximum in the future. For now, use 'series.values.argmax' or\n",
      "'np.argmax(np.array(values))' to get the position of the maximum\n",
      "row.\n",
      "  \"\"\"Entry point for launching an IPython kernel.\n",
      "/Users/diegofiori/anaconda3/envs/giotto_env/lib/python3.6/site-packages/ipykernel_launcher.py:3: FutureWarning: \n",
      "The current behaviour of 'Series.argmin' is deprecated, use 'idxmin'\n",
      "instead.\n",
      "The behavior of 'argmin' will be corrected to return the positional\n",
      "minimum in the future. For now, use 'series.values.argmin' or\n",
      "'np.argmin(np.array(values))' to get the position of the minimum\n",
      "row.\n",
      "  This is separate from the ipykernel package so we can avoid doing imports until\n"
     ]
    }
   ],
   "source": [
    "best_positive_correlated_img_idx = matrix_corr_images.max(axis=0).argmax()\n",
    "best_positive_correlated_img = matrix_corr_images.loc[:, best_positive_correlated_img_idx]\n",
    "best_negative_correlated_img_idx = matrix_corr_images.min(axis=0).argmin()\n",
    "best_negative_correlated_img = matrix_corr_images.loc[:, best_negative_correlated_img_idx]"
   ]
  },
  {
   "cell_type": "code",
   "execution_count": 22,
   "metadata": {},
   "outputs": [
    {
     "data": {
      "text/plain": [
       "[<matplotlib.lines.Line2D at 0x1224c2ef0>]"
      ]
     },
     "execution_count": 22,
     "metadata": {},
     "output_type": "execute_result"
    },
    {
     "data": {
      "image/png": "[encoded data removed]",
      "text/plain": [
       "<Figure size 432x288 with 1 Axes>"
      ]
     },
     "metadata": {
      "needs_background": "light"
     },
     "output_type": "display_data"
    }
   ],
   "source": [
    "plt.plot(best_positive_correlated_img)"
   ]
  },
  {
   "cell_type": "code",
   "execution_count": 23,
   "metadata": {},
   "outputs": [
    {
     "data": {
      "text/plain": [
       "[<matplotlib.lines.Line2D at 0x12256a898>]"
      ]
     },
     "execution_count": 23,
     "metadata": {},
     "output_type": "execute_result"
    },
    {
     "data": {
      "image/png": "[encoded data removed]",
      "text/plain": [
       "<Figure size 432x288 with 1 Axes>"
      ]
     },
     "metadata": {
      "needs_background": "light"
     },
     "output_type": "display_data"
    }
   ],
   "source": [
    "plt.plot(best_negative_correlated_img)"
   ]
  },
  {
   "cell_type": "markdown",
   "metadata": {},
   "source": [
    "# Pearson Correlation"
   ]
  },
  {
   "cell_type": "code",
   "execution_count": 24,
   "metadata": {},
   "outputs": [],
   "source": [
    "from scipy.stats import pearsonr\n",
    "import pandas as pd"
   ]
  },
  {
   "cell_type": "code",
   "execution_count": 25,
   "metadata": {},
   "outputs": [],
   "source": [
    "def compute_pearson_cross_correlation(x, y, tau_max):\n",
    "    correlations = pd.Series(data=np.zeros((2*tau_max + 1)), index=np.arange(-tau_max, tau_max + 1))\n",
    "    for i in range(-tau_max, tau_max + 1):\n",
    "        if i > 0:\n",
    "            new_x = x[:-i]\n",
    "            new_y = y[i:]\n",
    "        if i < 0:\n",
    "            new_x = x[-i:]\n",
    "            new_y = y[:i]\n",
    "        else: \n",
    "            new_x = x\n",
    "            new_y = y\n",
    "        correlations[i] = pearsonr(new_x, new_y)[0]\n",
    "    return correlations"
   ]
  },
  {
   "cell_type": "markdown",
   "metadata": {},
   "source": [
    "Now we consider only future correlation"
   ]
  },
  {
   "cell_type": "code",
   "execution_count": 26,
   "metadata": {},
   "outputs": [],
   "source": [
    "def compute_pearson_future_cross_correlation(x, y, tau_max):\n",
    "    correlations = pd.Series(data=np.zeros(tau_max + 1), index=np.arange(tau_max + 1))\n",
    "    for i in range(tau_max + 1):\n",
    "        if i > 0:\n",
    "            new_x = x[:-int(i*80)]\n",
    "            new_y = y[int(i*80):]\n",
    "        else: \n",
    "            new_x = x\n",
    "            new_y = y\n",
    "        correlations[i] = pearsonr(new_x, new_y)[0]\n",
    "    return correlations"
   ]
  },
  {
   "cell_type": "code",
   "execution_count": 27,
   "metadata": {},
   "outputs": [],
   "source": [
    "k_perp = k_perp[:images_complexes.shape[1]]"
   ]
  },
  {
   "cell_type": "code",
   "execution_count": 28,
   "metadata": {},
   "outputs": [],
   "source": [
    "max_shift = 20\n",
    "fut_correlations = []\n",
    "for i in range(images_complexes.shape[0]):\n",
    "        for k in range(images_complexes.shape[2]):\n",
    "            if (i, k) in selected_index:\n",
    "                temp = images_complexes[i, :, k]\n",
    "                if np.isnan(temp.sum()):\n",
    "                    temp = np.nan_to_num(temp)\n",
    "                corr = compute_pearson_future_cross_correlation(temp, k_perp, max_shift)\n",
    "                corr.name = (i, k)\n",
    "                fut_correlations.append(corr)\n",
    "fut_correlation_df = pd.concat(fut_correlations, axis=1)"
   ]
  },
  {
   "cell_type": "code",
   "execution_count": 29,
   "metadata": {},
   "outputs": [
    {
     "name": "stderr",
     "output_type": "stream",
     "text": [
      "/Users/diegofiori/anaconda3/envs/giotto_env/lib/python3.6/site-packages/ipykernel_launcher.py:1: FutureWarning: \n",
      "The current behaviour of 'Series.argmax' is deprecated, use 'idxmax'\n",
      "instead.\n",
      "The behavior of 'argmax' will be corrected to return the positional\n",
      "maximum in the future. For now, use 'series.values.argmax' or\n",
      "'np.argmax(np.array(values))' to get the position of the maximum\n",
      "row.\n",
      "  \"\"\"Entry point for launching an IPython kernel.\n"
     ]
    },
    {
     "data": {
      "text/plain": [
       "[<matplotlib.lines.Line2D at 0x12275a400>]"
      ]
     },
     "execution_count": 29,
     "metadata": {},
     "output_type": "execute_result"
    },
    {
     "data": {
      "image/png": "[encoded data removed]",
      "text/plain": [
       "<Figure size 432x288 with 1 Axes>"
      ]
     },
     "metadata": {
      "needs_background": "light"
     },
     "output_type": "display_data"
    },
    {
     "data": {
      "image/png": "[encoded data removed]",
      "text/plain": [
       "<Figure size 432x288 with 1 Axes>"
      ]
     },
     "metadata": {
      "needs_background": "light"
     },
     "output_type": "display_data"
    },
    {
     "data": {
      "image/png": "[encoded data removed]",
      "text/plain": [
       "<Figure size 432x288 with 1 Axes>"
      ]
     },
     "metadata": {
      "needs_background": "light"
     },
     "output_type": "display_data"
    }
   ],
   "source": [
    "mcidx = fut_correlation_df.max().argmax()\n",
    "\n",
    "plt.figure()\n",
    "plt.plot(k_perp)\n",
    "\n",
    "plt.figure()\n",
    "plt.plot(fut_correlation_df[mcidx])\n",
    "\n",
    "most_correlated = images_complexes[mcidx[0], :, mcidx[1]]\n",
    "plt.figure()\n",
    "plt.plot(most_correlated)"
   ]
  },
  {
   "cell_type": "code",
   "execution_count": 30,
   "metadata": {},
   "outputs": [
    {
     "name": "stderr",
     "output_type": "stream",
     "text": [
      "/Users/diegofiori/anaconda3/envs/giotto_env/lib/python3.6/site-packages/ipykernel_launcher.py:1: FutureWarning: \n",
      "The current behaviour of 'Series.argmin' is deprecated, use 'idxmin'\n",
      "instead.\n",
      "The behavior of 'argmin' will be corrected to return the positional\n",
      "minimum in the future. For now, use 'series.values.argmin' or\n",
      "'np.argmin(np.array(values))' to get the position of the minimum\n",
      "row.\n",
      "  \"\"\"Entry point for launching an IPython kernel.\n"
     ]
    },
    {
     "data": {
      "text/plain": [
       "[<matplotlib.lines.Line2D at 0x1227deef0>]"
      ]
     },
     "execution_count": 30,
     "metadata": {},
     "output_type": "execute_result"
    },
    {
     "data": {
      "image/png": "[encoded data removed]",
      "text/plain": [
       "<Figure size 432x288 with 1 Axes>"
      ]
     },
     "metadata": {
      "needs_background": "light"
     },
     "output_type": "display_data"
    },
    {
     "data": {
      "image/png": "[encoded data removed]",
      "text/plain": [
       "<Figure size 432x288 with 1 Axes>"
      ]
     },
     "metadata": {
      "needs_background": "light"
     },
     "output_type": "display_data"
    }
   ],
   "source": [
    "lcidx = fut_correlation_df.min().argmin()\n",
    "less_correlated = images_complexes[lcidx[0], :, lcidx[1]]\n",
    "plt.figure()\n",
    "plt.plot(fut_correlation_df[lcidx])\n",
    "plt.figure()\n",
    "plt.plot(less_correlated)"
   ]
  },
  {
   "cell_type": "markdown",
   "metadata": {},
   "source": [
    "Looking for spikes"
   ]
  },
  {
   "cell_type": "code",
   "execution_count": 31,
   "metadata": {},
   "outputs": [
    {
     "ename": "NameError",
     "evalue": "name 'max_cdidx' is not defined",
     "output_type": "error",
     "traceback": [
      "\u001b[0;31m---------------------------------------------------------------------------\u001b[0m",
      "\u001b[0;31mNameError\u001b[0m                                 Traceback (most recent call last)",
      "\u001b[0;32m<ipython-input-31-c889f1d3465f>\u001b[0m in \u001b[0;36m<module>\u001b[0;34m\u001b[0m\n\u001b[0;32m----> 1\u001b[0;31m \u001b[0mmax_cdidx\u001b[0m\u001b[0;34m\u001b[0m\u001b[0;34m\u001b[0m\u001b[0m\n\u001b[0m",
      "\u001b[0;31mNameError\u001b[0m: name 'max_cdidx' is not defined"
     ]
    }
   ],
   "source": [
    "max_cdidx"
   ]
  },
  {
   "cell_type": "code",
   "execution_count": null,
   "metadata": {},
   "outputs": [],
   "source": [
    "correlation_derivatives_df = fut_correlation_df.fillna(0).diff().dropna()\n",
    "max_cdidx = correlation_derivatives_df.max().argmax()\n",
    "plt.figure()\n",
    "plt.plot(fut_correlation_df[max_cdidx])\n",
    "plt.figure()\n",
    "plt.plot(images_complexes[max_cdidx[0], :, max_cdidx[1]])"
   ]
  },
  {
   "cell_type": "markdown",
   "metadata": {},
   "source": [
    "# Spearman correlation"
   ]
  },
  {
   "cell_type": "code",
   "execution_count": null,
   "metadata": {},
   "outputs": [],
   "source": [
    "from scipy.stats import spearmanr"
   ]
  },
  {
   "cell_type": "code",
   "execution_count": null,
   "metadata": {},
   "outputs": [],
   "source": [
    "def compute_spearman_future_cross_correlation(x, y, tau_max):\n",
    "    correlations = pd.Series(data=np.zeros(tau_max + 1), index=np.arange(tau_max + 1))\n",
    "    for i in range(tau_max + 1):\n",
    "        if i > 0:\n",
    "            new_x = x[:-int(i*80)]\n",
    "            new_y = y[int(i*80):]\n",
    "        else: \n",
    "            new_x = x\n",
    "            new_y = y\n",
    "        correlations[i] = spearmanr(new_x, new_y)[0]\n",
    "    return correlations"
   ]
  },
  {
   "cell_type": "code",
   "execution_count": null,
   "metadata": {},
   "outputs": [],
   "source": [
    "max_shift = 20\n",
    "correlations = []\n",
    "for i in range(images_complexes.shape[0]):\n",
    "        for k in range(images_complexes.shape[2]):\n",
    "            if (i, k) in selected_index:\n",
    "                temp = images_complexes[i, :, k]\n",
    "                if np.isnan(temp.sum()):\n",
    "                    temp = np.nan_to_num(temp)\n",
    "                corr = compute_spearman_future_cross_correlation(temp, k_perp, max_shift)\n",
    "                corr.name = (i, k)\n",
    "                correlations.append(corr)\n",
    "correlation_df = pd.concat(correlations, axis=1)"
   ]
  },
  {
   "cell_type": "code",
   "execution_count": null,
   "metadata": {},
   "outputs": [],
   "source": [
    "mcidx = correlation_df.max().argmax()\n",
    "\n",
    "plt.figure()\n",
    "plt.plot(k_perp)\n",
    "\n",
    "plt.figure()\n",
    "plt.plot(correlation_df[mcidx])\n",
    "\n",
    "most_correlated = images_complexes[mcidx[0], :, mcidx[1]]\n",
    "plt.figure()\n",
    "plt.plot(most_correlated)"
   ]
  },
  {
   "cell_type": "code",
   "execution_count": null,
   "metadata": {
    "scrolled": false
   },
   "outputs": [],
   "source": [
    "lcidx = correlation_df.min().argmin()\n",
    "less_correlated = images_complexes[lcidx[0], :, lcidx[1]]\n",
    "plt.figure()\n",
    "plt.plot(correlation_df[lcidx])\n",
    "plt.figure()\n",
    "plt.plot(less_correlated)"
   ]
  },
  {
   "cell_type": "markdown",
   "metadata": {},
   "source": [
    "# Plot for the meeting with Paolo"
   ]
  },
  {
   "cell_type": "code",
   "execution_count": null,
   "metadata": {},
   "outputs": [],
   "source": [
    "plt.figure()\n",
    "plt.plot(density)\n",
    "# plt.plot([750, 750], [0.5, 0.7], 'r')\n",
    "plt.title('density')\n",
    "plt.xlabel('time_steps')\n",
    "plt.ylabel('density')\n",
    "plt.figure()\n",
    "plt.plot(k_perp)\n",
    "# plt.plot([750, 750], [0, 0.2], 'r')\n",
    "plt.title('k_perp')\n",
    "plt.xlabel('time_steps')\n",
    "plt.ylabel('k_perp')\n",
    "plt.figure()\n",
    "plt.plot(most_correlated)\n",
    "# plt.plot([750, 750], [0, .1], 'r')\n",
    "plt.title(f'topological feature {mcidx}')\n",
    "plt.xlabel('time_steps')\n",
    "plt.ylabel('top_feat')\n",
    "plt.figure()\n",
    "plt.plot(less_correlated)\n",
    "# plt.plot([750, 750], [0, 6], 'r')\n",
    "plt.title(f'topological feature {lcidx}')\n",
    "plt.xlabel('time_steps')\n",
    "plt.ylabel('top_feat')"
   ]
  },
  {
   "cell_type": "markdown",
   "metadata": {},
   "source": [
    "## New data"
   ]
  },
  {
   "cell_type": "code",
   "execution_count": null,
   "metadata": {},
   "outputs": [],
   "source": [
    "new_sim_code = 'eml'\n",
    "new_density = read_pickle(FILE_PATH+f'physical_features_end_{new_sim_code}.pickle')\n",
    "new_density = np.concatenate([new_density[i] for i in range(len(new_density))])[-100:]"
   ]
  },
  {
   "cell_type": "code",
   "execution_count": null,
   "metadata": {},
   "outputs": [],
   "source": [
    "new_density.shape"
   ]
  },
  {
   "cell_type": "code",
   "execution_count": null,
   "metadata": {},
   "outputs": [],
   "source": [
    "plt.plot(new_density)"
   ]
  },
  {
   "cell_type": "code",
   "execution_count": null,
   "metadata": {},
   "outputs": [],
   "source": [
    "x = loadmat(f'/Users/diegofiori/Desktop/epfl/master_thesis/k_perp_end_{new_sim_code}.mat')\n",
    "new_k_perp = x['k_quantities'] "
   ]
  },
  {
   "cell_type": "code",
   "execution_count": null,
   "metadata": {},
   "outputs": [],
   "source": [
    "new_k_perp.shape"
   ]
  },
  {
   "cell_type": "code",
   "execution_count": null,
   "metadata": {},
   "outputs": [],
   "source": [
    "new_k_perp = np.concatenate([new_k_perp[i, :, 0] for i in range(new_k_perp.shape[0])])"
   ]
  },
  {
   "cell_type": "code",
   "execution_count": null,
   "metadata": {},
   "outputs": [],
   "source": [
    "new_slices = read_pickle(FILE_PATH + f'slices_top_features_end_{new_sim_code}.pickle')"
   ]
  },
  {
   "cell_type": "code",
   "execution_count": null,
   "metadata": {},
   "outputs": [],
   "source": [
    "new_slices.shape"
   ]
  },
  {
   "cell_type": "code",
   "execution_count": null,
   "metadata": {},
   "outputs": [],
   "source": [
    "new_most_correlated = new_slices[mcidx[0], :, mcidx[1]]\n",
    "new_less_correlated = new_slices[lcidx[0], :, lcidx[1]]"
   ]
  },
  {
   "cell_type": "code",
   "execution_count": null,
   "metadata": {
    "scrolled": true
   },
   "outputs": [],
   "source": [
    "plt.figure()\n",
    "plt.plot(np.exp(new_density))\n",
    "# plt.plot([750, 750], [0.5, 0.7], 'r')\n",
    "plt.title('density')\n",
    "plt.xlabel('time_steps')\n",
    "plt.ylabel('density')\n",
    "plt.figure()\n",
    "plt.plot(new_k_perp)\n",
    "plt.title('k_perp')\n",
    "plt.xlabel('time_steps')\n",
    "plt.ylabel('k_perp')\n",
    "plt.figure()\n",
    "plt.plot(new_most_correlated)\n",
    "# plt.plot([750, 750], [0, 5], 'r')\n",
    "plt.title(f'topological feature {mcidx}')\n",
    "plt.xlabel('time_steps')\n",
    "plt.ylabel('top_feat')\n",
    "plt.figure()\n",
    "plt.plot(new_less_correlated)\n",
    "# plt.plot([750, 750], [0, 10], 'r')\n",
    "plt.title(f'topological feature {lcidx}')\n",
    "plt.xlabel('time_steps')\n",
    "plt.ylabel('top_feat')"
   ]
  },
  {
   "cell_type": "markdown",
   "metadata": {},
   "source": [
    "## SnowPlus"
   ]
  },
  {
   "cell_type": "code",
   "execution_count": null,
   "metadata": {},
   "outputs": [],
   "source": [
    "new_sim_code = 'sf'\n",
    "new_density = read_pickle(FILE_PATH+f'physical_features_end_{new_sim_code}.pickle')\n",
    "new_density = np.concatenate([new_density[i] for i in range(len(new_density))])\n",
    "\n",
    "x = loadmat(f'/Users/diegofiori/Desktop/epfl/master_thesis/k_perp_end_{new_sim_code}.mat')\n",
    "new_k_perp = x['k_quantities'] \n",
    "\n",
    "new_k_perp = np.concatenate([new_k_perp[i, :, 0] for i in range(new_k_perp.shape[0])])\n",
    "\n",
    "new_slices = read_pickle(FILE_PATH + f'slices_top_features_end_{new_sim_code}.pickle')\n",
    "\n",
    "new_slices.shape\n",
    "\n",
    "new_most_correlated = new_slices[mcidx[0], :, mcidx[1]]\n",
    "new_less_correlated = new_slices[lcidx[0], :, lcidx[1]]\n",
    "\n",
    "plt.figure()\n",
    "plt.plot(np.exp(new_density))\n",
    "# plt.plot([750, 750], [0.5, 0.7], 'r')\n",
    "plt.title('density')\n",
    "plt.xlabel('time_steps')\n",
    "plt.ylabel('density')\n",
    "plt.figure()\n",
    "plt.plot(new_k_perp)\n",
    "plt.title('k_perp')\n",
    "plt.xlabel('time_steps')\n",
    "plt.ylabel('k_perp')\n",
    "plt.figure()\n",
    "plt.plot(new_most_correlated)\n",
    "# plt.plot([750, 750], [0, 5], 'r')\n",
    "plt.title(f'topological feature {mcidx}')\n",
    "plt.xlabel('time_steps')\n",
    "plt.ylabel('top_feat')\n",
    "plt.figure()\n",
    "plt.plot(new_less_correlated)\n",
    "# plt.plot([750, 750], [0, 10], 'r')\n",
    "plt.title(f'topological feature {lcidx}')\n",
    "plt.xlabel('time_steps')\n",
    "plt.ylabel('top_feat')"
   ]
  },
  {
   "cell_type": "code",
   "execution_count": null,
   "metadata": {},
   "outputs": [],
   "source": []
  },
  {
   "cell_type": "code",
   "execution_count": null,
   "metadata": {},
   "outputs": [],
   "source": []
  },
  {
   "cell_type": "code",
   "execution_count": null,
   "metadata": {},
   "outputs": [],
   "source": []
  },
  {
   "cell_type": "code",
   "execution_count": null,
   "metadata": {},
   "outputs": [],
   "source": []
  },
  {
   "cell_type": "code",
   "execution_count": null,
   "metadata": {},
   "outputs": [],
   "source": []
  }
 ],
 "metadata": {
  "kernelspec": {
   "display_name": "Python 3",
   "language": "python",
   "name": "python3"
  },
  "language_info": {
   "codemirror_mode": {
    "name": "ipython",
    "version": 3
   },
   "file_extension": ".py",
   "mimetype": "text/x-python",
   "name": "python",
   "nbconvert_exporter": "python",
   "pygments_lexer": "ipython3",
   "version": "3.6.9"
  }
 },
 "nbformat": 4,
 "nbformat_minor": 2
}
