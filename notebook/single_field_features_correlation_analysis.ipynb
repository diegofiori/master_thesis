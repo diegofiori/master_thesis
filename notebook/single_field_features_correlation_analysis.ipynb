{
 "cells": [
  {
   "cell_type": "code",
   "execution_count": 1,
   "metadata": {},
   "outputs": [],
   "source": [
    "import numpy as np\n",
    "import pandas as pd\n",
    "import sys\n",
    "sys.path.append('/Users/diegofiori/Desktop/epfl/master_thesis/master_thesis/')\n",
    "from utils import read_pickle\n",
    "from tqdm.notebook import tqdm"
   ]
  },
  {
   "cell_type": "code",
   "execution_count": 313,
   "metadata": {},
   "outputs": [],
   "source": [
    "path = '/Users/diegofiori/Desktop/epfl/master_thesis/results/'\n",
    "sim_code = 'qs'\n",
    "density = read_pickle(path+f'physical_features_end_{sim_code}.pickle')\n",
    "slices = read_pickle(path+f'slices_top_features_end_{sim_code}.pickle')"
   ]
  },
  {
   "cell_type": "code",
   "execution_count": 314,
   "metadata": {},
   "outputs": [],
   "source": [
    "density = np.concatenate(density)"
   ]
  },
  {
   "cell_type": "code",
   "execution_count": 315,
   "metadata": {},
   "outputs": [
    {
     "data": {
      "text/plain": [
       "(268,)"
      ]
     },
     "execution_count": 315,
     "metadata": {},
     "output_type": "execute_result"
    }
   ],
   "source": [
    "density.shape"
   ]
  },
  {
   "cell_type": "code",
   "execution_count": 316,
   "metadata": {},
   "outputs": [
    {
     "data": {
      "text/plain": [
       "(5, 7680, 11134)"
      ]
     },
     "execution_count": 316,
     "metadata": {},
     "output_type": "execute_result"
    }
   ],
   "source": [
    "slices.shape"
   ]
  },
  {
   "cell_type": "code",
   "execution_count": 317,
   "metadata": {},
   "outputs": [],
   "source": [
    "df = pd.DataFrame(data=slices[0])"
   ]
  },
  {
   "cell_type": "code",
   "execution_count": 318,
   "metadata": {},
   "outputs": [
    {
     "data": {
      "text/plain": [
       "(7680, 11134)"
      ]
     },
     "execution_count": 318,
     "metadata": {},
     "output_type": "execute_result"
    }
   ],
   "source": [
    "df.shape"
   ]
  },
  {
   "cell_type": "code",
   "execution_count": 319,
   "metadata": {},
   "outputs": [
    {
     "data": {
      "text/html": [
       "<div>\n",
       "<style scoped>\n",
       "    .dataframe tbody tr th:only-of-type {\n",
       "        vertical-align: middle;\n",
       "    }\n",
       "\n",
       "    .dataframe tbody tr th {\n",
       "        vertical-align: top;\n",
       "    }\n",
       "\n",
       "    .dataframe thead th {\n",
       "        text-align: right;\n",
       "    }\n",
       "</style>\n",
       "<table border=\"1\" class=\"dataframe\">\n",
       "  <thead>\n",
       "    <tr style=\"text-align: right;\">\n",
       "      <th></th>\n",
       "      <th>0</th>\n",
       "      <th>1</th>\n",
       "      <th>2</th>\n",
       "      <th>3</th>\n",
       "      <th>4</th>\n",
       "      <th>5</th>\n",
       "      <th>6</th>\n",
       "      <th>7</th>\n",
       "      <th>8</th>\n",
       "      <th>9</th>\n",
       "      <th>...</th>\n",
       "      <th>11124</th>\n",
       "      <th>11125</th>\n",
       "      <th>11126</th>\n",
       "      <th>11127</th>\n",
       "      <th>11128</th>\n",
       "      <th>11129</th>\n",
       "      <th>11130</th>\n",
       "      <th>11131</th>\n",
       "      <th>11132</th>\n",
       "      <th>11133</th>\n",
       "    </tr>\n",
       "  </thead>\n",
       "  <tbody>\n",
       "    <tr>\n",
       "      <th>0</th>\n",
       "      <td>2.531955</td>\n",
       "      <td>2.979229</td>\n",
       "      <td>0.997591</td>\n",
       "      <td>0.873178</td>\n",
       "      <td>1.919073</td>\n",
       "      <td>2.113158</td>\n",
       "      <td>1.011299</td>\n",
       "      <td>0.918527</td>\n",
       "      <td>0.497564</td>\n",
       "      <td>0.381366</td>\n",
       "      <td>...</td>\n",
       "      <td>0.0</td>\n",
       "      <td>0.0</td>\n",
       "      <td>0.0</td>\n",
       "      <td>0.0</td>\n",
       "      <td>0.0</td>\n",
       "      <td>0.0</td>\n",
       "      <td>0.0</td>\n",
       "      <td>0.0</td>\n",
       "      <td>0.0</td>\n",
       "      <td>0.0</td>\n",
       "    </tr>\n",
       "    <tr>\n",
       "      <th>1</th>\n",
       "      <td>2.533453</td>\n",
       "      <td>2.945948</td>\n",
       "      <td>0.997570</td>\n",
       "      <td>0.872496</td>\n",
       "      <td>1.916555</td>\n",
       "      <td>2.097693</td>\n",
       "      <td>1.011165</td>\n",
       "      <td>0.918383</td>\n",
       "      <td>0.497544</td>\n",
       "      <td>0.380756</td>\n",
       "      <td>...</td>\n",
       "      <td>0.0</td>\n",
       "      <td>0.0</td>\n",
       "      <td>0.0</td>\n",
       "      <td>0.0</td>\n",
       "      <td>0.0</td>\n",
       "      <td>0.0</td>\n",
       "      <td>0.0</td>\n",
       "      <td>0.0</td>\n",
       "      <td>0.0</td>\n",
       "      <td>0.0</td>\n",
       "    </tr>\n",
       "    <tr>\n",
       "      <th>2</th>\n",
       "      <td>2.552748</td>\n",
       "      <td>3.018794</td>\n",
       "      <td>0.997560</td>\n",
       "      <td>0.871683</td>\n",
       "      <td>1.926528</td>\n",
       "      <td>2.146265</td>\n",
       "      <td>1.011264</td>\n",
       "      <td>0.918488</td>\n",
       "      <td>0.497534</td>\n",
       "      <td>0.380017</td>\n",
       "      <td>...</td>\n",
       "      <td>0.0</td>\n",
       "      <td>0.0</td>\n",
       "      <td>0.0</td>\n",
       "      <td>0.0</td>\n",
       "      <td>0.0</td>\n",
       "      <td>0.0</td>\n",
       "      <td>0.0</td>\n",
       "      <td>0.0</td>\n",
       "      <td>0.0</td>\n",
       "      <td>0.0</td>\n",
       "    </tr>\n",
       "    <tr>\n",
       "      <th>3</th>\n",
       "      <td>2.577988</td>\n",
       "      <td>3.000581</td>\n",
       "      <td>0.997562</td>\n",
       "      <td>0.870987</td>\n",
       "      <td>1.943366</td>\n",
       "      <td>2.138998</td>\n",
       "      <td>1.011615</td>\n",
       "      <td>0.918619</td>\n",
       "      <td>0.497535</td>\n",
       "      <td>0.379380</td>\n",
       "      <td>...</td>\n",
       "      <td>0.0</td>\n",
       "      <td>0.0</td>\n",
       "      <td>0.0</td>\n",
       "      <td>0.0</td>\n",
       "      <td>0.0</td>\n",
       "      <td>0.0</td>\n",
       "      <td>0.0</td>\n",
       "      <td>0.0</td>\n",
       "      <td>0.0</td>\n",
       "      <td>0.0</td>\n",
       "    </tr>\n",
       "    <tr>\n",
       "      <th>4</th>\n",
       "      <td>2.563686</td>\n",
       "      <td>2.963647</td>\n",
       "      <td>0.997585</td>\n",
       "      <td>0.870331</td>\n",
       "      <td>1.936030</td>\n",
       "      <td>2.133089</td>\n",
       "      <td>1.011507</td>\n",
       "      <td>0.918777</td>\n",
       "      <td>0.497558</td>\n",
       "      <td>0.378784</td>\n",
       "      <td>...</td>\n",
       "      <td>0.0</td>\n",
       "      <td>0.0</td>\n",
       "      <td>0.0</td>\n",
       "      <td>0.0</td>\n",
       "      <td>0.0</td>\n",
       "      <td>0.0</td>\n",
       "      <td>0.0</td>\n",
       "      <td>0.0</td>\n",
       "      <td>0.0</td>\n",
       "      <td>0.0</td>\n",
       "    </tr>\n",
       "  </tbody>\n",
       "</table>\n",
       "<p>5 rows × 11134 columns</p>\n",
       "</div>"
      ],
      "text/plain": [
       "      0         1         2         3         4         5         6      \\\n",
       "0  2.531955  2.979229  0.997591  0.873178  1.919073  2.113158  1.011299   \n",
       "1  2.533453  2.945948  0.997570  0.872496  1.916555  2.097693  1.011165   \n",
       "2  2.552748  3.018794  0.997560  0.871683  1.926528  2.146265  1.011264   \n",
       "3  2.577988  3.000581  0.997562  0.870987  1.943366  2.138998  1.011615   \n",
       "4  2.563686  2.963647  0.997585  0.870331  1.936030  2.133089  1.011507   \n",
       "\n",
       "      7         8         9      ...  11124  11125  11126  11127  11128  \\\n",
       "0  0.918527  0.497564  0.381366  ...    0.0    0.0    0.0    0.0    0.0   \n",
       "1  0.918383  0.497544  0.380756  ...    0.0    0.0    0.0    0.0    0.0   \n",
       "2  0.918488  0.497534  0.380017  ...    0.0    0.0    0.0    0.0    0.0   \n",
       "3  0.918619  0.497535  0.379380  ...    0.0    0.0    0.0    0.0    0.0   \n",
       "4  0.918777  0.497558  0.378784  ...    0.0    0.0    0.0    0.0    0.0   \n",
       "\n",
       "   11129  11130  11131  11132  11133  \n",
       "0    0.0    0.0    0.0    0.0    0.0  \n",
       "1    0.0    0.0    0.0    0.0    0.0  \n",
       "2    0.0    0.0    0.0    0.0    0.0  \n",
       "3    0.0    0.0    0.0    0.0    0.0  \n",
       "4    0.0    0.0    0.0    0.0    0.0  \n",
       "\n",
       "[5 rows x 11134 columns]"
      ]
     },
     "execution_count": 319,
     "metadata": {},
     "output_type": "execute_result"
    }
   ],
   "source": [
    "df.head()"
   ]
  },
  {
   "cell_type": "code",
   "execution_count": 320,
   "metadata": {},
   "outputs": [],
   "source": [
    "from pipeline_builder import get_pipeline_index"
   ]
  },
  {
   "cell_type": "code",
   "execution_count": 321,
   "metadata": {},
   "outputs": [
    {
     "data": {
      "text/plain": [
       "{'persistence_entropy': I[0, 2),\n",
       " 'amplitude_bottleneck_': I[2, 4),\n",
       " 'amplitude_wasserstein_1': I[4, 6),\n",
       " 'amplitude_wasserstein_2': I[6, 8),\n",
       " 'amplitude_landscape_1_1_100': I[8, 10),\n",
       " 'amplitude_landscape_1_2_100': I[10, 12),\n",
       " 'amplitude_landscape_2_1_100': I[12, 14),\n",
       " 'amplitude_landscape_2_2_100': I[14, 16),\n",
       " 'amplitude_betti_1_100': I[16, 18),\n",
       " 'amplitude_betti_2_100': I[18, 20),\n",
       " 'amplitude_heat_1_1.6_100': I[20, 22),\n",
       " 'amplitude_heat_1_3.2_100': I[22, 24),\n",
       " 'amplitude_heat_2_1.6_100': I[24, 26),\n",
       " 'amplitude_heat_2_3.2_100': I[26, 28),\n",
       " 'derivative_bottleneck_': I[28, 30),\n",
       " 'derivative_wasserstein_1': I[30, 32),\n",
       " 'derivative_wasserstein_2': I[32, 34),\n",
       " 'heat_kernel_1.6': I[34, 5034),\n",
       " 'heat_kernel_3.2': I[5034, 10034),\n",
       " 'betti_curve': I[10034, 10134),\n",
       " 'pers_landscape': I[10134, 11134)}"
      ]
     },
     "execution_count": 321,
     "metadata": {},
     "output_type": "execute_result"
    }
   ],
   "source": [
    "dict_transf = get_pipeline_index()\n",
    "dict_transf"
   ]
  },
  {
   "cell_type": "markdown",
   "metadata": {},
   "source": [
    "## Selecting features based on RandomForest"
   ]
  },
  {
   "cell_type": "markdown",
   "metadata": {},
   "source": [
    "We firstly defined the regression problem."
   ]
  },
  {
   "cell_type": "code",
   "execution_count": 322,
   "metadata": {},
   "outputs": [],
   "source": [
    "import h5py"
   ]
  },
  {
   "cell_type": "code",
   "execution_count": 323,
   "metadata": {},
   "outputs": [],
   "source": [
    "from scipy.io import loadmat\n",
    "x = loadmat(f'/Users/diegofiori/Desktop/epfl/master_thesis/k_perp_end_{sim_code}.mat')\n",
    "y = x['k_quantities']"
   ]
  },
  {
   "cell_type": "code",
   "execution_count": 324,
   "metadata": {},
   "outputs": [],
   "source": [
    "y = np.concatenate([y[i, :, :] for i in range(y.shape[0])])"
   ]
  },
  {
   "cell_type": "code",
   "execution_count": 325,
   "metadata": {},
   "outputs": [
    {
     "data": {
      "text/plain": [
       "(8000, 2)"
      ]
     },
     "execution_count": 325,
     "metadata": {},
     "output_type": "execute_result"
    }
   ],
   "source": [
    "y.shape"
   ]
  },
  {
   "cell_type": "code",
   "execution_count": 326,
   "metadata": {},
   "outputs": [],
   "source": [
    "y = y[:len(df)]"
   ]
  },
  {
   "cell_type": "code",
   "execution_count": 327,
   "metadata": {},
   "outputs": [],
   "source": [
    "non_zero_ind = np.any(y>0, axis=1)"
   ]
  },
  {
   "cell_type": "code",
   "execution_count": 328,
   "metadata": {},
   "outputs": [],
   "source": [
    "y1 = y[non_zero_ind, 0]\n",
    "y2 = y[non_zero_ind, 1]"
   ]
  },
  {
   "cell_type": "code",
   "execution_count": 329,
   "metadata": {},
   "outputs": [],
   "source": [
    "X = df.values[non_zero_ind]"
   ]
  },
  {
   "cell_type": "code",
   "execution_count": 330,
   "metadata": {},
   "outputs": [],
   "source": [
    "from sklearn.ensemble import RandomForestRegressor\n",
    "from sklearn.model_selection import train_test_split"
   ]
  },
  {
   "cell_type": "code",
   "execution_count": 331,
   "metadata": {},
   "outputs": [],
   "source": [
    "from scipy.stats import pearsonr\n",
    "def compute_correlation_with_old_features(target_feat, old_features_idx, X):\n",
    "    corr = [pearsonr(target_feat, X[:, old_idx])[0] for old_idx in old_features_idx]\n",
    "    return np.abs(corr)"
   ]
  },
  {
   "cell_type": "code",
   "execution_count": 332,
   "metadata": {},
   "outputs": [
    {
     "data": {
      "application/vnd.jupyter.widget-view+json": {
       "model_id": "60d7388934154c5eac8124a6727a90c2",
       "version_major": 2,
       "version_minor": 0
      },
      "text/plain": [
       "HBox(children=(FloatProgress(value=0.0, max=11134.0), HTML(value='')))"
      ]
     },
     "metadata": {},
     "output_type": "display_data"
    },
    {
     "name": "stderr",
     "output_type": "stream",
     "text": [
      "/Users/diegofiori/anaconda3/envs/giotto_tda_env/lib/python3.8/site-packages/scipy/stats/stats.py:3508: PearsonRConstantInputWarning: An input array is constant; the correlation coefficent is not defined.\n",
      "  warnings.warn(PearsonRConstantInputWarning())\n",
      "/Users/diegofiori/anaconda3/envs/giotto_tda_env/lib/python3.8/site-packages/scipy/stats/stats.py:3538: PearsonRNearConstantInputWarning: An input array is nearly constant; the computed correlation coefficent may be inaccurate.\n",
      "  warnings.warn(PearsonRNearConstantInputWarning())\n"
     ]
    },
    {
     "name": "stdout",
     "output_type": "stream",
     "text": [
      "\n"
     ]
    }
   ],
   "source": [
    "# remove some features which are higly correlated\n",
    "X = np.nan_to_num(X)\n",
    "columns_idx = []\n",
    "columns_tuple_id = [(i, j) for i in range(slices.shape[0]) for j in range(slices.shape[2])]\n",
    "equi_class = {}\n",
    "class_id = 0\n",
    "for i in tqdm(range(X.shape[1])):  \n",
    "    feat_mat = X[:, i]\n",
    "    if columns_idx:\n",
    "        corrs = [compute_correlation_with_old_features(feat_mat, columns_idx, X)]\n",
    "        if np.max(corrs) < 0.95:\n",
    "            columns_idx.append(i)\n",
    "            equi_class[class_id] = [columns_tuple_id[i]]\n",
    "            class_id += 1\n",
    "        else:\n",
    "            equi_class[np.argmin(corrs)].append(columns_tuple_id[i])\n",
    "    else:\n",
    "        columns_idx.append(i)\n",
    "        equi_class[class_id] = [columns_tuple_id[i]]\n",
    "        class_id += 1\n",
    "X = X[:, np.array(columns_idx)]"
   ]
  },
  {
   "cell_type": "code",
   "execution_count": 333,
   "metadata": {},
   "outputs": [],
   "source": [
    "equi_class = {equi_class[i][0]: equi_class[i] for i in equi_class.keys()}"
   ]
  },
  {
   "cell_type": "code",
   "execution_count": 334,
   "metadata": {},
   "outputs": [
    {
     "data": {
      "text/plain": [
       "(7680, 1345)"
      ]
     },
     "execution_count": 334,
     "metadata": {},
     "output_type": "execute_result"
    }
   ],
   "source": [
    "X.shape"
   ]
  },
  {
   "cell_type": "code",
   "execution_count": 335,
   "metadata": {},
   "outputs": [],
   "source": [
    "X_train, X_test, y1_train, y1_test, y2_train, y2_test = train_test_split(X, y1, y2, test_size=0.2)"
   ]
  },
  {
   "cell_type": "code",
   "execution_count": 336,
   "metadata": {},
   "outputs": [
    {
     "data": {
      "text/plain": [
       "RandomForestRegressor(bootstrap=True, ccp_alpha=0.0, criterion='mse',\n",
       "                      max_depth=None, max_features='auto', max_leaf_nodes=None,\n",
       "                      max_samples=None, min_impurity_decrease=0.0,\n",
       "                      min_impurity_split=None, min_samples_leaf=1,\n",
       "                      min_samples_split=2, min_weight_fraction_leaf=0.0,\n",
       "                      n_estimators=2000, n_jobs=None, oob_score=False,\n",
       "                      random_state=None, verbose=0, warm_start=False)"
      ]
     },
     "execution_count": 336,
     "metadata": {},
     "output_type": "execute_result"
    }
   ],
   "source": [
    "model1 = RandomForestRegressor(n_estimators=2000)\n",
    "model1.fit(X_train, y1_train)\n",
    "model2 = RandomForestRegressor(n_estimators=2000)\n",
    "model2.fit(X_train, y2_train)"
   ]
  },
  {
   "cell_type": "code",
   "execution_count": 337,
   "metadata": {},
   "outputs": [],
   "source": [
    "score_1 = model1.score(X_test, y1_test)\n",
    "score_2 = model2.score(X_test, y2_test)\n",
    "total_score = score_1 + score_2"
   ]
  },
  {
   "cell_type": "code",
   "execution_count": 338,
   "metadata": {},
   "outputs": [
    {
     "data": {
      "text/plain": [
       "0.9792675981196219"
      ]
     },
     "execution_count": 338,
     "metadata": {},
     "output_type": "execute_result"
    }
   ],
   "source": [
    "score_2"
   ]
  },
  {
   "cell_type": "code",
   "execution_count": 339,
   "metadata": {},
   "outputs": [
    {
     "data": {
      "text/plain": [
       "0.9556233540907576"
      ]
     },
     "execution_count": 339,
     "metadata": {},
     "output_type": "execute_result"
    }
   ],
   "source": [
    "score_1"
   ]
  },
  {
   "cell_type": "code",
   "execution_count": 340,
   "metadata": {},
   "outputs": [
    {
     "data": {
      "text/plain": [
       "1.9348909522103797"
      ]
     },
     "execution_count": 340,
     "metadata": {},
     "output_type": "execute_result"
    }
   ],
   "source": [
    "total_score"
   ]
  },
  {
   "cell_type": "code",
   "execution_count": 341,
   "metadata": {},
   "outputs": [
    {
     "data": {
      "text/plain": [
       "array([0.02521032])"
      ]
     },
     "execution_count": 341,
     "metadata": {},
     "output_type": "execute_result"
    }
   ],
   "source": [
    "model1.predict(X_test[19:20])"
   ]
  },
  {
   "cell_type": "code",
   "execution_count": 342,
   "metadata": {},
   "outputs": [
    {
     "data": {
      "text/plain": [
       "0.024545156151915628"
      ]
     },
     "execution_count": 342,
     "metadata": {},
     "output_type": "execute_result"
    }
   ],
   "source": [
    "y1_test[19]"
   ]
  },
  {
   "cell_type": "code",
   "execution_count": 343,
   "metadata": {},
   "outputs": [
    {
     "data": {
      "text/plain": [
       "0.0004783513754910345"
      ]
     },
     "execution_count": 343,
     "metadata": {},
     "output_type": "execute_result"
    }
   ],
   "source": [
    "from sklearn.metrics import mean_absolute_error\n",
    "mean_absolute_error(y1_test, model1.predict(X_test))"
   ]
  },
  {
   "cell_type": "code",
   "execution_count": 344,
   "metadata": {},
   "outputs": [
    {
     "name": "stdout",
     "output_type": "stream",
     "text": [
      "relative error\n"
     ]
    },
    {
     "data": {
      "text/plain": [
       "0.017058091036685718"
      ]
     },
     "execution_count": 344,
     "metadata": {},
     "output_type": "execute_result"
    }
   ],
   "source": [
    "print('relative error')\n",
    "mean_absolute_error(y1_test, model1.predict(X_test))/np.mean(y1_test)"
   ]
  },
  {
   "cell_type": "code",
   "execution_count": 345,
   "metadata": {},
   "outputs": [],
   "source": [
    "feature_importance = score_1/total_score*model1.feature_importances_ + score_2/total_score*model2.feature_importances_\n"
   ]
  },
  {
   "cell_type": "code",
   "execution_count": 346,
   "metadata": {},
   "outputs": [],
   "source": [
    "# group the features (we want to keep all the spatial dimensions)\n",
    "n_features = slices.shape[2]\n",
    "#feature_importance_temp = [feature_importance[i:i+n_features] for i in range(0, len(feature_importance), n_features)]\n",
    "#feature_importance_temp = [np.mean(feature_importance_temp[i:i+80], axis=0) \n",
    "#                           for i in range(0, len(feature_importance_temp), 80)]"
   ]
  },
  {
   "cell_type": "code",
   "execution_count": 347,
   "metadata": {},
   "outputs": [],
   "source": [
    "feature_importance_idx = [j for j in range(n_features)]\n",
    "feature_importance_idx = [feature_importance_idx[i] for i in range(len(feature_importance_idx)) if i in columns_idx]\n",
    "feature_importance_idx_sort = sorted(feature_importance_idx, reverse=True,\n",
    "                                key=lambda x: feature_importance[feature_importance_idx.index(x)])"
   ]
  },
  {
   "cell_type": "code",
   "execution_count": 348,
   "metadata": {},
   "outputs": [
    {
     "data": {
      "application/vnd.jupyter.widget-view+json": {
       "model_id": "e5954f63110e4142a9fb6ad6762f963a",
       "version_major": 2,
       "version_minor": 0
      },
      "text/plain": [
       "HBox(children=(FloatProgress(value=0.0, max=1345.0), HTML(value='')))"
      ]
     },
     "metadata": {},
     "output_type": "display_data"
    }
   ],
   "source": [
    "important_features_idx = []\n",
    "threshold = 0.85\n",
    "minimum_value = np.max(feature_importance)/100\n",
    "for i, idx in enumerate(tqdm(feature_importance_idx_sort)):\n",
    "    feat_value = feature_importance[feature_importance_idx.index(idx)]\n",
    "    if feat_value < minimum_value:\n",
    "        break\n",
    "    feat_mat = X[:, feature_importance_idx.index(idx)]\n",
    "    if important_features_idx:\n",
    "        corrs = [compute_correlation_with_old_features(feat_mat, important_features_idx, X)]\n",
    "        if np.max(corrs) < threshold:\n",
    "            important_features_idx.append(i)\n",
    "        else:\n",
    "            list_temp = equi_class.pop((0, idx))\n",
    "            equi_class[(0, feature_importance_idx_sort[important_features_idx[np.argmax(corrs)]])] += list_temp\n",
    "    else:\n",
    "        important_features_idx.append(i)\n",
    "important_features = [feature_importance_idx_sort[i] for i in important_features_idx]"
   ]
  },
  {
   "cell_type": "code",
   "execution_count": 349,
   "metadata": {},
   "outputs": [
    {
     "data": {
      "text/plain": [
       "1332"
      ]
     },
     "execution_count": 349,
     "metadata": {},
     "output_type": "execute_result"
    }
   ],
   "source": [
    "len(equi_class)"
   ]
  },
  {
   "cell_type": "code",
   "execution_count": 350,
   "metadata": {},
   "outputs": [],
   "source": [
    "important_equi_class = {(0, key): equi_class[(0, key)] for key in important_features}"
   ]
  },
  {
   "cell_type": "code",
   "execution_count": 351,
   "metadata": {},
   "outputs": [
    {
     "data": {
      "text/plain": [
       "55"
      ]
     },
     "execution_count": 351,
     "metadata": {},
     "output_type": "execute_result"
    }
   ],
   "source": [
    "len(important_equi_class)"
   ]
  },
  {
   "cell_type": "code",
   "execution_count": 352,
   "metadata": {},
   "outputs": [],
   "source": [
    "from utils import write_pickle\n",
    "write_pickle(path=path+f'selected_index_{sim_code}_single_field.pickle', array=important_features)"
   ]
  },
  {
   "cell_type": "code",
   "execution_count": 353,
   "metadata": {},
   "outputs": [],
   "source": [
    "write_pickle(path=path+f'selected_equi_class_{sim_code}_single_field.pickle', array=important_equi_class)"
   ]
  },
  {
   "cell_type": "code",
   "execution_count": null,
   "metadata": {},
   "outputs": [],
   "source": []
  },
  {
   "cell_type": "code",
   "execution_count": null,
   "metadata": {},
   "outputs": [],
   "source": []
  },
  {
   "cell_type": "code",
   "execution_count": null,
   "metadata": {},
   "outputs": [],
   "source": []
  },
  {
   "cell_type": "code",
   "execution_count": null,
   "metadata": {},
   "outputs": [],
   "source": []
  },
  {
   "cell_type": "code",
   "execution_count": 312,
   "metadata": {},
   "outputs": [
    {
     "data": {
      "text/plain": [
       "101"
      ]
     },
     "execution_count": 312,
     "metadata": {},
     "output_type": "execute_result"
    }
   ],
   "source": [
    "len(important_features)"
   ]
  },
  {
   "cell_type": "code",
   "execution_count": 52,
   "metadata": {},
   "outputs": [],
   "source": [
    "important_features = [(0, i) for i in important_features]"
   ]
  },
  {
   "cell_type": "code",
   "execution_count": 53,
   "metadata": {},
   "outputs": [],
   "source": [
    "important_equi_class = {key: [(0, i) for i in important_equi_class[key]]\n",
    "                        for key in important_equi_class.keys()}"
   ]
  },
  {
   "cell_type": "code",
   "execution_count": 54,
   "metadata": {},
   "outputs": [],
   "source": [
    "important_features_all = read_pickle(path+'selected_index_cs.pickle')"
   ]
  },
  {
   "cell_type": "code",
   "execution_count": 55,
   "metadata": {},
   "outputs": [],
   "source": [
    "intersection = set(important_features_all).intersection(set(important_features))"
   ]
  },
  {
   "cell_type": "code",
   "execution_count": 56,
   "metadata": {},
   "outputs": [
    {
     "data": {
      "text/plain": [
       "{(0, 4384),\n",
       " (0, 4385),\n",
       " (0, 10185),\n",
       " (0, 10186),\n",
       " (0, 10236),\n",
       " (0, 10637),\n",
       " (0, 10638),\n",
       " (0, 10639),\n",
       " (0, 10688),\n",
       " (0, 10689),\n",
       " (0, 10690),\n",
       " (0, 10691),\n",
       " (0, 10692),\n",
       " (0, 10699),\n",
       " (0, 10717),\n",
       " (0, 10842)}"
      ]
     },
     "execution_count": 56,
     "metadata": {},
     "output_type": "execute_result"
    }
   ],
   "source": [
    "intersection"
   ]
  },
  {
   "cell_type": "code",
   "execution_count": 57,
   "metadata": {},
   "outputs": [
    {
     "data": {
      "text/plain": [
       "{(1, 6),\n",
       " (1, 2384),\n",
       " (1, 10185),\n",
       " (1, 10186),\n",
       " (1, 10188),\n",
       " (1, 10235),\n",
       " (1, 10236),\n",
       " (1, 10637),\n",
       " (1, 10687),\n",
       " (1, 10688),\n",
       " (1, 10692),\n",
       " (1, 10737),\n",
       " (1, 10787)}"
      ]
     },
     "execution_count": 57,
     "metadata": {},
     "output_type": "execute_result"
    }
   ],
   "source": [
    "intersection_1 = set(important_features_all).intersection(set([(1, x[1]) for x in important_features]))\n",
    "intersection_1"
   ]
  },
  {
   "cell_type": "code",
   "execution_count": 58,
   "metadata": {},
   "outputs": [
    {
     "data": {
      "text/plain": [
       "{(2, 0),\n",
       " (2, 6),\n",
       " (2, 10186),\n",
       " (2, 10187),\n",
       " (2, 10188),\n",
       " (2, 10193),\n",
       " (2, 10236),\n",
       " (2, 10239),\n",
       " (2, 10286),\n",
       " (2, 10638),\n",
       " (2, 10639),\n",
       " (2, 10692),\n",
       " (2, 10695),\n",
       " (2, 10696),\n",
       " (2, 10698),\n",
       " (2, 10699),\n",
       " (2, 10741),\n",
       " (2, 10745),\n",
       " (2, 10793)}"
      ]
     },
     "execution_count": 58,
     "metadata": {},
     "output_type": "execute_result"
    }
   ],
   "source": [
    "intersection_2 = set(important_features_all).intersection(set([(2, x[1]) for x in important_features]))\n",
    "intersection_2"
   ]
  },
  {
   "cell_type": "code",
   "execution_count": 59,
   "metadata": {},
   "outputs": [
    {
     "data": {
      "text/plain": [
       "0.41739130434782606"
      ]
     },
     "execution_count": 59,
     "metadata": {},
     "output_type": "execute_result"
    }
   ],
   "source": [
    "len(intersection.union(intersection_1).union(intersection_2))/len(important_features_all)"
   ]
  },
  {
   "cell_type": "code",
   "execution_count": 60,
   "metadata": {},
   "outputs": [
    {
     "data": {
      "text/plain": [
       "0.6695652173913044"
      ]
     },
     "execution_count": 60,
     "metadata": {},
     "output_type": "execute_result"
    }
   ],
   "source": [
    "len(important_features)/len(important_features_all)"
   ]
  },
  {
   "cell_type": "code",
   "execution_count": 61,
   "metadata": {},
   "outputs": [
    {
     "data": {
      "text/plain": [
       "0.5343787696019301"
      ]
     },
     "execution_count": 61,
     "metadata": {},
     "output_type": "execute_result"
    }
   ],
   "source": [
    "0.443/0.829"
   ]
  },
  {
   "cell_type": "markdown",
   "metadata": {},
   "source": [
    "## Compare equi_classes"
   ]
  },
  {
   "cell_type": "code",
   "execution_count": 65,
   "metadata": {},
   "outputs": [],
   "source": [
    "important_equi_class_all = read_pickle(path+f'selected_equi_class_{sim_code}.pickle')"
   ]
  },
  {
   "cell_type": "code",
   "execution_count": 90,
   "metadata": {},
   "outputs": [],
   "source": [
    "important_equi_class = {key: [x[1] for x in important_equi_class[key]]\n",
    "                        for key in important_equi_class.keys()}"
   ]
  },
  {
   "cell_type": "code",
   "execution_count": 87,
   "metadata": {},
   "outputs": [],
   "source": [
    "def intersect_equi_classes(equi_1, equi_2):\n",
    "    common_eq_classes = {}\n",
    "    class_idx = 0\n",
    "    for key_1 in equi_1.keys():\n",
    "        set_temp_1 = set(equi_1[key_1])\n",
    "        for key_2 in equi_2.keys(): \n",
    "            set_res = set(equi_2[key_2]).intersection(set_temp_1)\n",
    "            if len(set_res) > 0:\n",
    "                common_eq_classes[class_idx] = list(set_res)\n",
    "                class_idx += 1\n",
    "    return common_eq_classes"
   ]
  },
  {
   "cell_type": "code",
   "execution_count": 103,
   "metadata": {},
   "outputs": [],
   "source": [
    "def union_equi_classes(equi_1, equi_2):\n",
    "    union_eq_classes = {i: equi_2[key] for i, key in enumerate(equi_2.keys())}\n",
    "    class_idx = len(union_eq_classes)\n",
    "    for key_1 in equi_1.keys():\n",
    "        set_temp_1 = set(equi_1[key_1])\n",
    "        for key_2 in equi_2.keys(): \n",
    "            set_res = set(equi_2[key_2]).intersection(set_temp_1)\n",
    "            if len(set_res) == 0:\n",
    "                union_eq_classes[class_idx] = equi_1[key_1]\n",
    "                class_idx += 1\n",
    "                break\n",
    "    return union_eq_classes"
   ]
  },
  {
   "cell_type": "code",
   "execution_count": 93,
   "metadata": {},
   "outputs": [],
   "source": [
    "intersection_equi_class = intersect_equi_classes(important_equi_class_all, important_equi_class)"
   ]
  },
  {
   "cell_type": "code",
   "execution_count": 104,
   "metadata": {},
   "outputs": [],
   "source": [
    "union_class = union_equi_classes(important_equi_class_all, important_equi_class)"
   ]
  },
  {
   "cell_type": "code",
   "execution_count": 105,
   "metadata": {},
   "outputs": [
    {
     "data": {
      "text/plain": [
       "192"
      ]
     },
     "execution_count": 105,
     "metadata": {},
     "output_type": "execute_result"
    }
   ],
   "source": [
    "len(union_class)"
   ]
  },
  {
   "cell_type": "code",
   "execution_count": 106,
   "metadata": {},
   "outputs": [
    {
     "data": {
      "text/plain": [
       "0.11458333333333333"
      ]
     },
     "execution_count": 106,
     "metadata": {},
     "output_type": "execute_result"
    }
   ],
   "source": [
    "len(intersection_equi_class)/len(union_class)"
   ]
  },
  {
   "cell_type": "code",
   "execution_count": null,
   "metadata": {},
   "outputs": [],
   "source": []
  },
  {
   "cell_type": "markdown",
   "metadata": {},
   "source": [
    "## Random Forest using only the important features for both the single field and the total problem"
   ]
  },
  {
   "cell_type": "markdown",
   "metadata": {},
   "source": [
    "Case 1: single_simulation"
   ]
  },
  {
   "cell_type": "code",
   "execution_count": 53,
   "metadata": {},
   "outputs": [],
   "source": [
    "X1 = np.concatenate([slices[i, :, j].reshape((-1, 1)) for (i, j) in important_features_all], axis=1)"
   ]
  },
  {
   "cell_type": "code",
   "execution_count": 54,
   "metadata": {},
   "outputs": [],
   "source": [
    "X2 = np.concatenate([slices[i, :, j].reshape((-1, 1)) for (i, j) in important_features], axis=1)"
   ]
  },
  {
   "cell_type": "code",
   "execution_count": 57,
   "metadata": {},
   "outputs": [
    {
     "name": "stdout",
     "output_type": "stream",
     "text": [
      "(7680, 88) (7680, 73) (7680,) (7680,)\n"
     ]
    }
   ],
   "source": [
    "print(X1.shape, X2.shape, y1.shape, y2.shape)"
   ]
  },
  {
   "cell_type": "code",
   "execution_count": 58,
   "metadata": {},
   "outputs": [],
   "source": [
    "X1_train, X1_test, X2_train, X2_test, y1_train, y1_test, y2_train, y2_test = \\\n",
    "    train_test_split(X1, X2, y1, y2, test_size=0.2)"
   ]
  },
  {
   "cell_type": "code",
   "execution_count": 84,
   "metadata": {},
   "outputs": [],
   "source": [
    "model_11 = RandomForestRegressor(n_estimators=100)\n",
    "model_12 = RandomForestRegressor(n_estimators=100)\n",
    "model_21 = RandomForestRegressor(n_estimators=100)\n",
    "model_22 = RandomForestRegressor(n_estimators=100)"
   ]
  },
  {
   "cell_type": "code",
   "execution_count": 85,
   "metadata": {},
   "outputs": [
    {
     "data": {
      "text/plain": [
       "RandomForestRegressor(bootstrap=True, criterion='mse', max_depth=None,\n",
       "                      max_features='auto', max_leaf_nodes=None,\n",
       "                      min_impurity_decrease=0.0, min_impurity_split=None,\n",
       "                      min_samples_leaf=1, min_samples_split=2,\n",
       "                      min_weight_fraction_leaf=0.0, n_estimators=100,\n",
       "                      n_jobs=None, oob_score=False, random_state=None,\n",
       "                      verbose=0, warm_start=False)"
      ]
     },
     "execution_count": 85,
     "metadata": {},
     "output_type": "execute_result"
    }
   ],
   "source": [
    "model_11.fit(X1_train, y1_train)\n",
    "model_12.fit(X1_train, y2_train)\n",
    "model_21.fit(X2_train, y1_train)\n",
    "model_22.fit(X2_train, y2_train)"
   ]
  },
  {
   "cell_type": "code",
   "execution_count": 86,
   "metadata": {},
   "outputs": [],
   "source": [
    "score_11 = mean_absolute_error(y1_test, model_11.predict(X1_test))\n",
    "score_12 = mean_absolute_error(y2_test, model_12.predict(X1_test))\n",
    "score_21 = mean_absolute_error(y1_test, model_21.predict(X2_test))\n",
    "score_22 = mean_absolute_error(y2_test, model_22.predict(X2_test))"
   ]
  },
  {
   "cell_type": "code",
   "execution_count": 87,
   "metadata": {},
   "outputs": [
    {
     "name": "stdout",
     "output_type": "stream",
     "text": [
      "0.000384319467149441 0.0007430684626557733 0.0004889102142923754 0.0010202162621454523\n"
     ]
    }
   ],
   "source": [
    "print(score_11, score_12, score_21, score_22)"
   ]
  },
  {
   "cell_type": "code",
   "execution_count": 89,
   "metadata": {},
   "outputs": [
    {
     "name": "stdout",
     "output_type": "stream",
     "text": [
      "0.03073030972208013 0.08123853839464416\n"
     ]
    }
   ],
   "source": [
    "print(np.mean(y1), y2.mean())"
   ]
  },
  {
   "cell_type": "markdown",
   "metadata": {},
   "source": [
    "Case 2: use another simulation as test"
   ]
  },
  {
   "cell_type": "code",
   "execution_count": 63,
   "metadata": {},
   "outputs": [],
   "source": [
    "sim_code_test = 'sf'\n",
    "slices_test =  read_pickle(path+f'slices_top_features_end_{sim_code_test}.pickle')"
   ]
  },
  {
   "cell_type": "code",
   "execution_count": 64,
   "metadata": {},
   "outputs": [],
   "source": [
    "model_11 = RandomForestRegressor(n_estimators=100)\n",
    "model_12 = RandomForestRegressor(n_estimators=100)\n",
    "model_21 = RandomForestRegressor(n_estimators=100)\n",
    "model_22 = RandomForestRegressor(n_estimators=100)"
   ]
  },
  {
   "cell_type": "code",
   "execution_count": 65,
   "metadata": {},
   "outputs": [
    {
     "data": {
      "text/plain": [
       "RandomForestRegressor(bootstrap=True, criterion='mse', max_depth=None,\n",
       "                      max_features='auto', max_leaf_nodes=None,\n",
       "                      min_impurity_decrease=0.0, min_impurity_split=None,\n",
       "                      min_samples_leaf=1, min_samples_split=2,\n",
       "                      min_weight_fraction_leaf=0.0, n_estimators=100,\n",
       "                      n_jobs=None, oob_score=False, random_state=None,\n",
       "                      verbose=0, warm_start=False)"
      ]
     },
     "execution_count": 65,
     "metadata": {},
     "output_type": "execute_result"
    }
   ],
   "source": [
    "model_11.fit(X1, y1)\n",
    "model_12.fit(X1, y2)\n",
    "model_21.fit(X2, y1)\n",
    "model_22.fit(X2, y2)"
   ]
  },
  {
   "cell_type": "code",
   "execution_count": 77,
   "metadata": {},
   "outputs": [],
   "source": [
    "x = loadmat(f'/Users/diegofiori/Desktop/epfl/master_thesis/k_perp_end_{sim_code_test}.mat')\n",
    "y_new = x['k_quantities']"
   ]
  },
  {
   "cell_type": "code",
   "execution_count": 68,
   "metadata": {},
   "outputs": [],
   "source": [
    "X1_new = np.concatenate([slices_test[i, :, j].reshape(-1, 1) for i, j in important_features_all], axis=1)\n",
    "X2_new = np.concatenate([slices_test[i, :, j].reshape(-1, 1) for i, j in important_features], axis=1)"
   ]
  },
  {
   "cell_type": "code",
   "execution_count": 78,
   "metadata": {},
   "outputs": [],
   "source": [
    "y_new = np.concatenate([y_new[i, :, :] for i in range(y_new.shape[0])])\n",
    "y_new = y_new[:len(X1_new)]\n",
    "y1_new = y_new[:, 0]\n",
    "y2_new = y_new[:, 1]"
   ]
  },
  {
   "cell_type": "code",
   "execution_count": 79,
   "metadata": {},
   "outputs": [
    {
     "data": {
      "text/plain": [
       "(7680,)"
      ]
     },
     "execution_count": 79,
     "metadata": {},
     "output_type": "execute_result"
    }
   ],
   "source": [
    "y1_new.shape"
   ]
  },
  {
   "cell_type": "code",
   "execution_count": 82,
   "metadata": {},
   "outputs": [],
   "source": [
    "score_11 = mean_absolute_error(y1_new, model_11.predict(X1_new))\n",
    "score_12 = mean_absolute_error(y2_new, model_12.predict(X1_new))\n",
    "score_21 = mean_absolute_error(y1_new, model_21.predict(X2_new))\n",
    "score_22 = mean_absolute_error(y2_new, model_22.predict(X2_new))"
   ]
  },
  {
   "cell_type": "code",
   "execution_count": 83,
   "metadata": {},
   "outputs": [
    {
     "name": "stdout",
     "output_type": "stream",
     "text": [
      "0.009043744755882745 0.0038099001060633493 0.009355945201310075 0.00471834558049169\n"
     ]
    }
   ],
   "source": [
    "print(score_11, score_12, score_21, score_22)"
   ]
  },
  {
   "cell_type": "code",
   "execution_count": 90,
   "metadata": {},
   "outputs": [
    {
     "name": "stdout",
     "output_type": "stream",
     "text": [
      "0.039276038699720475 0.08282099771353216\n"
     ]
    }
   ],
   "source": [
    "print(np.mean(y1_new), y2_new.mean())"
   ]
  },
  {
   "cell_type": "code",
   "execution_count": null,
   "metadata": {},
   "outputs": [],
   "source": []
  },
  {
   "cell_type": "code",
   "execution_count": null,
   "metadata": {},
   "outputs": [],
   "source": []
  },
  {
   "cell_type": "code",
   "execution_count": null,
   "metadata": {},
   "outputs": [],
   "source": []
  },
  {
   "cell_type": "code",
   "execution_count": null,
   "metadata": {},
   "outputs": [],
   "source": []
  },
  {
   "cell_type": "code",
   "execution_count": null,
   "metadata": {},
   "outputs": [],
   "source": []
  }
 ],
 "metadata": {
  "kernelspec": {
   "display_name": "Python 3",
   "language": "python",
   "name": "python3"
  },
  "language_info": {
   "codemirror_mode": {
    "name": "ipython",
    "version": 3
   },
   "file_extension": ".py",
   "mimetype": "text/x-python",
   "name": "python",
   "nbconvert_exporter": "python",
   "pygments_lexer": "ipython3",
   "version": "3.8.1"
  }
 },
 "nbformat": 4,
 "nbformat_minor": 2
}
