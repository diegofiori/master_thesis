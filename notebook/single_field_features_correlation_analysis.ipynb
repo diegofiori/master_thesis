{
 "cells": [
  {
   "cell_type": "code",
   "execution_count": 1,
   "metadata": {},
   "outputs": [],
   "source": [
    "import numpy as np\n",
    "import pandas as pd\n",
    "import sys\n",
    "sys.path.append('/Users/diegofiori/Desktop/epfl/master_thesis/master_thesis/')\n",
    "from utils import read_pickle\n",
    "from tqdm.notebook import tqdm"
   ]
  },
  {
   "cell_type": "code",
   "execution_count": 2,
   "metadata": {},
   "outputs": [],
   "source": [
    "path = '/Users/diegofiori/Desktop/epfl/master_thesis/results/'\n",
    "sim_code = 'cs'\n",
    "density = read_pickle(path+f'physical_features_end_{sim_code}.pickle')\n",
    "slices = read_pickle(path+f'slices_top_features_end_{sim_code}.pickle')"
   ]
  },
  {
   "cell_type": "code",
   "execution_count": 3,
   "metadata": {},
   "outputs": [],
   "source": [
    "density = np.concatenate(density)"
   ]
  },
  {
   "cell_type": "code",
   "execution_count": 4,
   "metadata": {},
   "outputs": [
    {
     "data": {
      "text/plain": [
       "(1888,)"
      ]
     },
     "execution_count": 4,
     "metadata": {},
     "output_type": "execute_result"
    }
   ],
   "source": [
    "density.shape"
   ]
  },
  {
   "cell_type": "code",
   "execution_count": 5,
   "metadata": {},
   "outputs": [
    {
     "data": {
      "text/plain": [
       "(4, 7680, 11134)"
      ]
     },
     "execution_count": 5,
     "metadata": {},
     "output_type": "execute_result"
    }
   ],
   "source": [
    "slices.shape"
   ]
  },
  {
   "cell_type": "code",
   "execution_count": 6,
   "metadata": {},
   "outputs": [],
   "source": [
    "df = pd.DataFrame(data=slices[0])"
   ]
  },
  {
   "cell_type": "code",
   "execution_count": 7,
   "metadata": {},
   "outputs": [
    {
     "data": {
      "text/plain": [
       "(7680, 11134)"
      ]
     },
     "execution_count": 7,
     "metadata": {},
     "output_type": "execute_result"
    }
   ],
   "source": [
    "df.shape"
   ]
  },
  {
   "cell_type": "code",
   "execution_count": 8,
   "metadata": {},
   "outputs": [
    {
     "data": {
      "text/html": [
       "<div>\n",
       "<style scoped>\n",
       "    .dataframe tbody tr th:only-of-type {\n",
       "        vertical-align: middle;\n",
       "    }\n",
       "\n",
       "    .dataframe tbody tr th {\n",
       "        vertical-align: top;\n",
       "    }\n",
       "\n",
       "    .dataframe thead th {\n",
       "        text-align: right;\n",
       "    }\n",
       "</style>\n",
       "<table border=\"1\" class=\"dataframe\">\n",
       "  <thead>\n",
       "    <tr style=\"text-align: right;\">\n",
       "      <th></th>\n",
       "      <th>0</th>\n",
       "      <th>1</th>\n",
       "      <th>2</th>\n",
       "      <th>3</th>\n",
       "      <th>4</th>\n",
       "      <th>5</th>\n",
       "      <th>6</th>\n",
       "      <th>7</th>\n",
       "      <th>8</th>\n",
       "      <th>9</th>\n",
       "      <th>...</th>\n",
       "      <th>11124</th>\n",
       "      <th>11125</th>\n",
       "      <th>11126</th>\n",
       "      <th>11127</th>\n",
       "      <th>11128</th>\n",
       "      <th>11129</th>\n",
       "      <th>11130</th>\n",
       "      <th>11131</th>\n",
       "      <th>11132</th>\n",
       "      <th>11133</th>\n",
       "    </tr>\n",
       "  </thead>\n",
       "  <tbody>\n",
       "    <tr>\n",
       "      <td>0</td>\n",
       "      <td>2.931996</td>\n",
       "      <td>4.086118</td>\n",
       "      <td>0.999678</td>\n",
       "      <td>0.908342</td>\n",
       "      <td>1.813822</td>\n",
       "      <td>2.293534</td>\n",
       "      <td>1.003000</td>\n",
       "      <td>0.915540</td>\n",
       "      <td>0.499631</td>\n",
       "      <td>0.412712</td>\n",
       "      <td>...</td>\n",
       "      <td>0.0</td>\n",
       "      <td>0.0</td>\n",
       "      <td>0.0</td>\n",
       "      <td>0.0</td>\n",
       "      <td>0.0</td>\n",
       "      <td>0.0</td>\n",
       "      <td>0.0</td>\n",
       "      <td>0.0</td>\n",
       "      <td>0.0</td>\n",
       "      <td>0.0</td>\n",
       "    </tr>\n",
       "    <tr>\n",
       "      <td>1</td>\n",
       "      <td>2.935314</td>\n",
       "      <td>4.081612</td>\n",
       "      <td>0.999665</td>\n",
       "      <td>0.908276</td>\n",
       "      <td>1.823356</td>\n",
       "      <td>2.287220</td>\n",
       "      <td>1.003123</td>\n",
       "      <td>0.915417</td>\n",
       "      <td>0.499618</td>\n",
       "      <td>0.412651</td>\n",
       "      <td>...</td>\n",
       "      <td>0.0</td>\n",
       "      <td>0.0</td>\n",
       "      <td>0.0</td>\n",
       "      <td>0.0</td>\n",
       "      <td>0.0</td>\n",
       "      <td>0.0</td>\n",
       "      <td>0.0</td>\n",
       "      <td>0.0</td>\n",
       "      <td>0.0</td>\n",
       "      <td>0.0</td>\n",
       "    </tr>\n",
       "    <tr>\n",
       "      <td>2</td>\n",
       "      <td>2.921623</td>\n",
       "      <td>4.101256</td>\n",
       "      <td>0.999652</td>\n",
       "      <td>0.908207</td>\n",
       "      <td>1.818434</td>\n",
       "      <td>2.302971</td>\n",
       "      <td>1.003139</td>\n",
       "      <td>0.915526</td>\n",
       "      <td>0.499605</td>\n",
       "      <td>0.412606</td>\n",
       "      <td>...</td>\n",
       "      <td>0.0</td>\n",
       "      <td>0.0</td>\n",
       "      <td>0.0</td>\n",
       "      <td>0.0</td>\n",
       "      <td>0.0</td>\n",
       "      <td>0.0</td>\n",
       "      <td>0.0</td>\n",
       "      <td>0.0</td>\n",
       "      <td>0.0</td>\n",
       "      <td>0.0</td>\n",
       "    </tr>\n",
       "    <tr>\n",
       "      <td>3</td>\n",
       "      <td>2.943066</td>\n",
       "      <td>4.110412</td>\n",
       "      <td>0.999640</td>\n",
       "      <td>0.908151</td>\n",
       "      <td>1.830123</td>\n",
       "      <td>2.324676</td>\n",
       "      <td>1.003135</td>\n",
       "      <td>0.915781</td>\n",
       "      <td>0.499592</td>\n",
       "      <td>0.412542</td>\n",
       "      <td>...</td>\n",
       "      <td>0.0</td>\n",
       "      <td>0.0</td>\n",
       "      <td>0.0</td>\n",
       "      <td>0.0</td>\n",
       "      <td>0.0</td>\n",
       "      <td>0.0</td>\n",
       "      <td>0.0</td>\n",
       "      <td>0.0</td>\n",
       "      <td>0.0</td>\n",
       "      <td>0.0</td>\n",
       "    </tr>\n",
       "    <tr>\n",
       "      <td>4</td>\n",
       "      <td>2.955779</td>\n",
       "      <td>4.089593</td>\n",
       "      <td>0.999627</td>\n",
       "      <td>0.907780</td>\n",
       "      <td>1.838863</td>\n",
       "      <td>2.304073</td>\n",
       "      <td>1.003237</td>\n",
       "      <td>0.915188</td>\n",
       "      <td>0.499580</td>\n",
       "      <td>0.412221</td>\n",
       "      <td>...</td>\n",
       "      <td>0.0</td>\n",
       "      <td>0.0</td>\n",
       "      <td>0.0</td>\n",
       "      <td>0.0</td>\n",
       "      <td>0.0</td>\n",
       "      <td>0.0</td>\n",
       "      <td>0.0</td>\n",
       "      <td>0.0</td>\n",
       "      <td>0.0</td>\n",
       "      <td>0.0</td>\n",
       "    </tr>\n",
       "  </tbody>\n",
       "</table>\n",
       "<p>5 rows × 11134 columns</p>\n",
       "</div>"
      ],
      "text/plain": [
       "      0         1         2         3         4         5         6      \\\n",
       "0  2.931996  4.086118  0.999678  0.908342  1.813822  2.293534  1.003000   \n",
       "1  2.935314  4.081612  0.999665  0.908276  1.823356  2.287220  1.003123   \n",
       "2  2.921623  4.101256  0.999652  0.908207  1.818434  2.302971  1.003139   \n",
       "3  2.943066  4.110412  0.999640  0.908151  1.830123  2.324676  1.003135   \n",
       "4  2.955779  4.089593  0.999627  0.907780  1.838863  2.304073  1.003237   \n",
       "\n",
       "      7         8         9      ...  11124  11125  11126  11127  11128  \\\n",
       "0  0.915540  0.499631  0.412712  ...    0.0    0.0    0.0    0.0    0.0   \n",
       "1  0.915417  0.499618  0.412651  ...    0.0    0.0    0.0    0.0    0.0   \n",
       "2  0.915526  0.499605  0.412606  ...    0.0    0.0    0.0    0.0    0.0   \n",
       "3  0.915781  0.499592  0.412542  ...    0.0    0.0    0.0    0.0    0.0   \n",
       "4  0.915188  0.499580  0.412221  ...    0.0    0.0    0.0    0.0    0.0   \n",
       "\n",
       "   11129  11130  11131  11132  11133  \n",
       "0    0.0    0.0    0.0    0.0    0.0  \n",
       "1    0.0    0.0    0.0    0.0    0.0  \n",
       "2    0.0    0.0    0.0    0.0    0.0  \n",
       "3    0.0    0.0    0.0    0.0    0.0  \n",
       "4    0.0    0.0    0.0    0.0    0.0  \n",
       "\n",
       "[5 rows x 11134 columns]"
      ]
     },
     "execution_count": 8,
     "metadata": {},
     "output_type": "execute_result"
    }
   ],
   "source": [
    "df.head()"
   ]
  },
  {
   "cell_type": "code",
   "execution_count": 9,
   "metadata": {},
   "outputs": [],
   "source": [
    "from pipeline_builder import get_pipeline_index"
   ]
  },
  {
   "cell_type": "code",
   "execution_count": 10,
   "metadata": {},
   "outputs": [
    {
     "data": {
      "text/plain": [
       "{'persistence_entropy': I[0, 2),\n",
       " 'amplitude_bottleneck_inf': I[2, 4),\n",
       " 'amplitude_wasserstein_1': I[4, 6),\n",
       " 'amplitude_wasserstein_2': I[6, 8),\n",
       " 'amplitude_landscape_1_1_100': I[8, 10),\n",
       " 'amplitude_landscape_1_2_100': I[10, 12),\n",
       " 'amplitude_landscape_2_1_100': I[12, 14),\n",
       " 'amplitude_landscape_2_2_100': I[14, 16),\n",
       " 'amplitude_betti_1_100': I[16, 18),\n",
       " 'amplitude_betti_2_100': I[18, 20),\n",
       " 'amplitude_heat_1_1.6_100': I[20, 22),\n",
       " 'amplitude_heat_1_3.2_100': I[22, 24),\n",
       " 'amplitude_heat_2_1.6_100': I[24, 26),\n",
       " 'amplitude_heat_2_3.2_100': I[26, 28),\n",
       " 'derivative_bottleneck_inf': I[28, 30),\n",
       " 'derivative_wasserstein_1': I[30, 32),\n",
       " 'derivative_wasserstein_2': I[32, 34),\n",
       " 'heat_kernel_1.6': I[34, 5034),\n",
       " 'heat_kernel_3.2': I[5034, 10034),\n",
       " 'betti_curve': I[10034, 10134),\n",
       " 'pers_landscape': I[10134, 11134)}"
      ]
     },
     "execution_count": 10,
     "metadata": {},
     "output_type": "execute_result"
    }
   ],
   "source": [
    "dict_transf = get_pipeline_index()\n",
    "dict_transf"
   ]
  },
  {
   "cell_type": "markdown",
   "metadata": {},
   "source": [
    "## Selecting features based on RandomForest"
   ]
  },
  {
   "cell_type": "markdown",
   "metadata": {},
   "source": [
    "We firstly defined the regression problem."
   ]
  },
  {
   "cell_type": "code",
   "execution_count": 11,
   "metadata": {},
   "outputs": [],
   "source": [
    "import h5py"
   ]
  },
  {
   "cell_type": "code",
   "execution_count": 12,
   "metadata": {},
   "outputs": [],
   "source": [
    "from scipy.io import loadmat\n",
    "x = loadmat(f'/Users/diegofiori/Desktop/epfl/master_thesis/k_perp_end_{sim_code}.mat')\n",
    "y = x['k_quantities']"
   ]
  },
  {
   "cell_type": "code",
   "execution_count": 13,
   "metadata": {},
   "outputs": [],
   "source": [
    "y = np.concatenate([y[i, :, :] for i in range(y.shape[0])])"
   ]
  },
  {
   "cell_type": "code",
   "execution_count": 14,
   "metadata": {},
   "outputs": [
    {
     "data": {
      "text/plain": [
       "(8000, 2)"
      ]
     },
     "execution_count": 14,
     "metadata": {},
     "output_type": "execute_result"
    }
   ],
   "source": [
    "y.shape"
   ]
  },
  {
   "cell_type": "code",
   "execution_count": 15,
   "metadata": {},
   "outputs": [],
   "source": [
    "y = y[:len(df)]"
   ]
  },
  {
   "cell_type": "code",
   "execution_count": 16,
   "metadata": {},
   "outputs": [],
   "source": [
    "non_zero_ind = np.any(y>0, axis=1)"
   ]
  },
  {
   "cell_type": "code",
   "execution_count": 17,
   "metadata": {},
   "outputs": [],
   "source": [
    "y1 = y[non_zero_ind, 0]\n",
    "y2 = y[non_zero_ind, 1]"
   ]
  },
  {
   "cell_type": "code",
   "execution_count": 18,
   "metadata": {},
   "outputs": [],
   "source": [
    "X = df.values[non_zero_ind]"
   ]
  },
  {
   "cell_type": "code",
   "execution_count": 19,
   "metadata": {},
   "outputs": [],
   "source": [
    "from sklearn.ensemble import RandomForestRegressor\n",
    "from sklearn.model_selection import train_test_split"
   ]
  },
  {
   "cell_type": "code",
   "execution_count": 20,
   "metadata": {},
   "outputs": [],
   "source": [
    "from scipy.stats import pearsonr\n",
    "def compute_correlation_with_old_features(target_feat, old_features_idx, X):\n",
    "    corr = [pearsonr(target_feat, X[:, old_idx])[0] for old_idx in old_features_idx]\n",
    "    return np.abs(corr)"
   ]
  },
  {
   "cell_type": "code",
   "execution_count": 21,
   "metadata": {},
   "outputs": [
    {
     "data": {
      "application/vnd.jupyter.widget-view+json": {
       "model_id": "519bbb2404a74932a960fe020319c268",
       "version_major": 2,
       "version_minor": 0
      },
      "text/plain": [
       "HBox(children=(IntProgress(value=0, max=11134), HTML(value='')))"
      ]
     },
     "metadata": {},
     "output_type": "display_data"
    },
    {
     "name": "stderr",
     "output_type": "stream",
     "text": [
      "/Users/diegofiori/anaconda3/envs/giotto_env/lib/python3.6/site-packages/scipy/stats/stats.py:3399: PearsonRConstantInputWarning: An input array is constant; the correlation coefficent is not defined.\n",
      "  warnings.warn(PearsonRConstantInputWarning())\n",
      "/Users/diegofiori/anaconda3/envs/giotto_env/lib/python3.6/site-packages/scipy/stats/stats.py:3429: PearsonRNearConstantInputWarning: An input array is nearly constant; the computed correlation coefficent may be inaccurate.\n",
      "  warnings.warn(PearsonRNearConstantInputWarning())\n"
     ]
    },
    {
     "name": "stdout",
     "output_type": "stream",
     "text": [
      "\n"
     ]
    }
   ],
   "source": [
    "# remove some features which are higly correlated\n",
    "X = np.nan_to_num(X)\n",
    "columns_idx = []\n",
    "for i in tqdm(range(X.shape[1])):  \n",
    "    feat_mat = X[:, i]\n",
    "    if columns_idx:\n",
    "        corrs = [compute_correlation_with_old_features(feat_mat, columns_idx, X)]\n",
    "        if np.max(corrs) < 0.95:\n",
    "            columns_idx.append(i)\n",
    "    else:\n",
    "        columns_idx.append(i)\n",
    "X = X[:, np.array(columns_idx)]"
   ]
  },
  {
   "cell_type": "code",
   "execution_count": 23,
   "metadata": {},
   "outputs": [
    {
     "data": {
      "text/plain": [
       "(7680, 1574)"
      ]
     },
     "execution_count": 23,
     "metadata": {},
     "output_type": "execute_result"
    }
   ],
   "source": [
    "X.shape"
   ]
  },
  {
   "cell_type": "code",
   "execution_count": 24,
   "metadata": {},
   "outputs": [],
   "source": [
    "X_train, X_test, y1_train, y1_test, y2_train, y2_test = train_test_split(X, y1, y2, test_size=0.2)"
   ]
  },
  {
   "cell_type": "code",
   "execution_count": 25,
   "metadata": {},
   "outputs": [
    {
     "data": {
      "text/plain": [
       "RandomForestRegressor(bootstrap=True, criterion='mse', max_depth=None,\n",
       "                      max_features='auto', max_leaf_nodes=None,\n",
       "                      min_impurity_decrease=0.0, min_impurity_split=None,\n",
       "                      min_samples_leaf=1, min_samples_split=2,\n",
       "                      min_weight_fraction_leaf=0.0, n_estimators=200,\n",
       "                      n_jobs=None, oob_score=False, random_state=None,\n",
       "                      verbose=0, warm_start=False)"
      ]
     },
     "execution_count": 25,
     "metadata": {},
     "output_type": "execute_result"
    }
   ],
   "source": [
    "model1 = RandomForestRegressor(n_estimators=200)\n",
    "model1.fit(X_train, y1_train)\n",
    "model2 = RandomForestRegressor(n_estimators=200)\n",
    "model2.fit(X_train, y2_train)"
   ]
  },
  {
   "cell_type": "code",
   "execution_count": 26,
   "metadata": {},
   "outputs": [],
   "source": [
    "score_1 = model1.score(X_test, y1_test)\n",
    "score_2 = model2.score(X_test, y2_test)\n",
    "total_score = score_1 + score_2"
   ]
  },
  {
   "cell_type": "code",
   "execution_count": 27,
   "metadata": {},
   "outputs": [
    {
     "data": {
      "text/plain": [
       "0.8976069957477941"
      ]
     },
     "execution_count": 27,
     "metadata": {},
     "output_type": "execute_result"
    }
   ],
   "source": [
    "score_2"
   ]
  },
  {
   "cell_type": "code",
   "execution_count": 28,
   "metadata": {},
   "outputs": [
    {
     "data": {
      "text/plain": [
       "0.9338495962220583"
      ]
     },
     "execution_count": 28,
     "metadata": {},
     "output_type": "execute_result"
    }
   ],
   "source": [
    "score_1"
   ]
  },
  {
   "cell_type": "code",
   "execution_count": 29,
   "metadata": {},
   "outputs": [
    {
     "data": {
      "text/plain": [
       "1.8314565919698524"
      ]
     },
     "execution_count": 29,
     "metadata": {},
     "output_type": "execute_result"
    }
   ],
   "source": [
    "total_score"
   ]
  },
  {
   "cell_type": "code",
   "execution_count": 30,
   "metadata": {},
   "outputs": [
    {
     "data": {
      "text/plain": [
       "array([0.02939604])"
      ]
     },
     "execution_count": 30,
     "metadata": {},
     "output_type": "execute_result"
    }
   ],
   "source": [
    "model1.predict(X_test[19:20])"
   ]
  },
  {
   "cell_type": "code",
   "execution_count": 31,
   "metadata": {},
   "outputs": [
    {
     "data": {
      "text/plain": [
       "0.02826588956735257"
      ]
     },
     "execution_count": 31,
     "metadata": {},
     "output_type": "execute_result"
    }
   ],
   "source": [
    "y1_test[19]"
   ]
  },
  {
   "cell_type": "code",
   "execution_count": 32,
   "metadata": {},
   "outputs": [
    {
     "data": {
      "text/plain": [
       "0.000569303432359422"
      ]
     },
     "execution_count": 32,
     "metadata": {},
     "output_type": "execute_result"
    }
   ],
   "source": [
    "from sklearn.metrics import mean_absolute_error\n",
    "mean_absolute_error(y1_test, model1.predict(X_test))"
   ]
  },
  {
   "cell_type": "code",
   "execution_count": 33,
   "metadata": {},
   "outputs": [
    {
     "name": "stdout",
     "output_type": "stream",
     "text": [
      "relative error\n"
     ]
    },
    {
     "data": {
      "text/plain": [
       "0.018493762205145182"
      ]
     },
     "execution_count": 33,
     "metadata": {},
     "output_type": "execute_result"
    }
   ],
   "source": [
    "print('relative error')\n",
    "mean_absolute_error(y1_test, model1.predict(X_test))/np.mean(y1_test)"
   ]
  },
  {
   "cell_type": "code",
   "execution_count": 34,
   "metadata": {},
   "outputs": [],
   "source": [
    "feature_importance = score_1/total_score*model1.feature_importances_ + score_2/total_score*model2.feature_importances_\n"
   ]
  },
  {
   "cell_type": "code",
   "execution_count": 35,
   "metadata": {},
   "outputs": [],
   "source": [
    "# group the features (we want to keep all the spatial dimensions)\n",
    "n_features = slices.shape[2]\n",
    "#feature_importance_temp = [feature_importance[i:i+n_features] for i in range(0, len(feature_importance), n_features)]\n",
    "#feature_importance_temp = [np.mean(feature_importance_temp[i:i+80], axis=0) \n",
    "#                           for i in range(0, len(feature_importance_temp), 80)]"
   ]
  },
  {
   "cell_type": "code",
   "execution_count": 36,
   "metadata": {},
   "outputs": [],
   "source": [
    "feature_importance_idx = [j for j in range(n_features)]\n",
    "feature_importance_idx = [feature_importance_idx[i] for i in range(len(feature_importance_idx)) if i in columns_idx]\n",
    "feature_importance_idx_sort = sorted(feature_importance_idx, reverse=True,\n",
    "                                key=lambda x: feature_importance[feature_importance_idx.index(x)])"
   ]
  },
  {
   "cell_type": "code",
   "execution_count": 37,
   "metadata": {},
   "outputs": [
    {
     "data": {
      "application/vnd.jupyter.widget-view+json": {
       "model_id": "6595649aedea417c95089d0abb7bbe5c",
       "version_major": 2,
       "version_minor": 0
      },
      "text/plain": [
       "HBox(children=(IntProgress(value=0, max=1574), HTML(value='')))"
      ]
     },
     "metadata": {},
     "output_type": "display_data"
    }
   ],
   "source": [
    "important_features_idx = []\n",
    "threshold = 0.85\n",
    "minimum_value = np.max(feature_importance)/100\n",
    "for i, idx in enumerate(tqdm(feature_importance_idx_sort)):\n",
    "    feat_value = feature_importance[feature_importance_idx.index(idx)]\n",
    "    if feat_value < minimum_value:\n",
    "        break\n",
    "    feat_mat = X[:, feature_importance_idx.index(idx)]\n",
    "    if important_features_idx:\n",
    "        corrs = [compute_correlation_with_old_features(feat_mat, important_features_idx, X)]\n",
    "        if np.max(corrs) < threshold:\n",
    "            important_features_idx.append(i)\n",
    "    else:\n",
    "        important_features_idx.append(i)\n",
    "important_features = [feature_importance_idx_sort[i] for i in important_features_idx]"
   ]
  },
  {
   "cell_type": "code",
   "execution_count": 38,
   "metadata": {},
   "outputs": [],
   "source": [
    "from utils import write_pickle\n",
    "write_pickle(path=path+f'selected_index_{sim_code}_single_field.pickle', array=important_features)"
   ]
  },
  {
   "cell_type": "code",
   "execution_count": 39,
   "metadata": {},
   "outputs": [
    {
     "data": {
      "text/plain": [
       "73"
      ]
     },
     "execution_count": 39,
     "metadata": {},
     "output_type": "execute_result"
    }
   ],
   "source": [
    "len(important_features)"
   ]
  },
  {
   "cell_type": "code",
   "execution_count": 41,
   "metadata": {},
   "outputs": [],
   "source": [
    "important_features = [(0, i) for i in important_features]"
   ]
  },
  {
   "cell_type": "code",
   "execution_count": 42,
   "metadata": {},
   "outputs": [
    {
     "data": {
      "text/plain": [
       "[(0, 0),\n",
       " (0, 6),\n",
       " (0, 10185),\n",
       " (0, 10638),\n",
       " (0, 10717),\n",
       " (0, 10639),\n",
       " (0, 10236),\n",
       " (0, 10838),\n",
       " (0, 10186),\n",
       " (0, 10637),\n",
       " (0, 10689),\n",
       " (0, 10688),\n",
       " (0, 10690),\n",
       " (0, 4384),\n",
       " (0, 10788),\n",
       " (0, 2384),\n",
       " (0, 10240),\n",
       " (0, 10742),\n",
       " (0, 4385),\n",
       " (0, 11037),\n",
       " (0, 10695),\n",
       " (0, 10692),\n",
       " (0, 10739),\n",
       " (0, 10192),\n",
       " (0, 10738),\n",
       " (0, 10693),\n",
       " (0, 10745),\n",
       " (0, 10892),\n",
       " (0, 3161),\n",
       " (0, 4286),\n",
       " (0, 4238),\n",
       " (0, 10189),\n",
       " (0, 10743),\n",
       " (0, 10235),\n",
       " (0, 2034),\n",
       " (0, 10191),\n",
       " (0, 10988),\n",
       " (0, 10888),\n",
       " (0, 10842),\n",
       " (0, 10687),\n",
       " (0, 10697),\n",
       " (0, 10636),\n",
       " (0, 10661),\n",
       " (0, 10691),\n",
       " (0, 10737),\n",
       " (0, 10286),\n",
       " (0, 10187),\n",
       " (0, 10792),\n",
       " (0, 10188),\n",
       " (0, 3211),\n",
       " (0, 10701),\n",
       " (0, 10741),\n",
       " (0, 10190),\n",
       " (0, 10699),\n",
       " (0, 10696),\n",
       " (0, 10194),\n",
       " (0, 2184),\n",
       " (0, 10694),\n",
       " (0, 4289),\n",
       " (0, 4734),\n",
       " (0, 6393),\n",
       " (0, 10675),\n",
       " (0, 10238),\n",
       " (0, 10241),\n",
       " (0, 10700),\n",
       " (0, 10239),\n",
       " (0, 10193),\n",
       " (0, 10698),\n",
       " (0, 10635),\n",
       " (0, 10740),\n",
       " (0, 10744),\n",
       " (0, 10196),\n",
       " (0, 11087)]"
      ]
     },
     "execution_count": 42,
     "metadata": {},
     "output_type": "execute_result"
    }
   ],
   "source": [
    "important_features"
   ]
  },
  {
   "cell_type": "code",
   "execution_count": 43,
   "metadata": {},
   "outputs": [],
   "source": [
    "important_features_all = read_pickle(path+'selected_index_cs.pickle')"
   ]
  },
  {
   "cell_type": "code",
   "execution_count": 45,
   "metadata": {},
   "outputs": [],
   "source": [
    "intersection = set(important_features_all).intersection(set(important_features))"
   ]
  },
  {
   "cell_type": "code",
   "execution_count": 46,
   "metadata": {},
   "outputs": [
    {
     "data": {
      "text/plain": [
       "{(0, 10185),\n",
       " (0, 10186),\n",
       " (0, 10236),\n",
       " (0, 10637),\n",
       " (0, 10638),\n",
       " (0, 10639),\n",
       " (0, 10689),\n",
       " (0, 10691),\n",
       " (0, 10692),\n",
       " (0, 10699),\n",
       " (0, 10717),\n",
       " (0, 10838),\n",
       " (0, 10842)}"
      ]
     },
     "execution_count": 46,
     "metadata": {},
     "output_type": "execute_result"
    }
   ],
   "source": [
    "intersection"
   ]
  },
  {
   "cell_type": "code",
   "execution_count": 47,
   "metadata": {},
   "outputs": [
    {
     "data": {
      "text/plain": [
       "{(1, 6),\n",
       " (1, 10185),\n",
       " (1, 10186),\n",
       " (1, 10188),\n",
       " (1, 10235),\n",
       " (1, 10236),\n",
       " (1, 10637),\n",
       " (1, 10687),\n",
       " (1, 10688),\n",
       " (1, 10737),\n",
       " (1, 10740)}"
      ]
     },
     "execution_count": 47,
     "metadata": {},
     "output_type": "execute_result"
    }
   ],
   "source": [
    "intersection_1 = set(important_features_all).intersection(set([(1, x[1]) for x in important_features]))\n",
    "intersection_1"
   ]
  },
  {
   "cell_type": "code",
   "execution_count": 48,
   "metadata": {},
   "outputs": [
    {
     "data": {
      "text/plain": [
       "{(2, 0),\n",
       " (2, 6),\n",
       " (2, 10186),\n",
       " (2, 10187),\n",
       " (2, 10188),\n",
       " (2, 10193),\n",
       " (2, 10236),\n",
       " (2, 10239),\n",
       " (2, 10286),\n",
       " (2, 10639),\n",
       " (2, 10694),\n",
       " (2, 10695),\n",
       " (2, 10699),\n",
       " (2, 10701),\n",
       " (2, 10741)}"
      ]
     },
     "execution_count": 48,
     "metadata": {},
     "output_type": "execute_result"
    }
   ],
   "source": [
    "intersection_2 = set(important_features_all).intersection(set([(2, x[1]) for x in important_features]))\n",
    "intersection_2"
   ]
  },
  {
   "cell_type": "code",
   "execution_count": 50,
   "metadata": {},
   "outputs": [
    {
     "data": {
      "text/plain": [
       "0.4431818181818182"
      ]
     },
     "execution_count": 50,
     "metadata": {},
     "output_type": "execute_result"
    }
   ],
   "source": [
    "len(intersection.union(intersection_1).union(intersection_2))/len(important_features_all)"
   ]
  },
  {
   "cell_type": "code",
   "execution_count": 51,
   "metadata": {},
   "outputs": [
    {
     "data": {
      "text/plain": [
       "0.8295454545454546"
      ]
     },
     "execution_count": 51,
     "metadata": {},
     "output_type": "execute_result"
    }
   ],
   "source": [
    "len(important_features)/len(important_features_all)"
   ]
  },
  {
   "cell_type": "code",
   "execution_count": 52,
   "metadata": {},
   "outputs": [
    {
     "data": {
      "text/plain": [
       "0.5343787696019301"
      ]
     },
     "execution_count": 52,
     "metadata": {},
     "output_type": "execute_result"
    }
   ],
   "source": [
    "0.443/0.829"
   ]
  },
  {
   "cell_type": "markdown",
   "metadata": {},
   "source": [
    "## Random Forest using only the important features for both the single field and the total problem"
   ]
  },
  {
   "cell_type": "markdown",
   "metadata": {},
   "source": [
    "Case 1: single_simulation"
   ]
  },
  {
   "cell_type": "code",
   "execution_count": 53,
   "metadata": {},
   "outputs": [],
   "source": [
    "X1 = np.concatenate([slices[i, :, j].reshape((-1, 1)) for (i, j) in important_features_all], axis=1)"
   ]
  },
  {
   "cell_type": "code",
   "execution_count": 54,
   "metadata": {},
   "outputs": [],
   "source": [
    "X2 = np.concatenate([slices[i, :, j].reshape((-1, 1)) for (i, j) in important_features], axis=1)"
   ]
  },
  {
   "cell_type": "code",
   "execution_count": 57,
   "metadata": {},
   "outputs": [
    {
     "name": "stdout",
     "output_type": "stream",
     "text": [
      "(7680, 88) (7680, 73) (7680,) (7680,)\n"
     ]
    }
   ],
   "source": [
    "print(X1.shape, X2.shape, y1.shape, y2.shape)"
   ]
  },
  {
   "cell_type": "code",
   "execution_count": 58,
   "metadata": {},
   "outputs": [],
   "source": [
    "X1_train, X1_test, X2_train, X2_test, y1_train, y1_test, y2_train, y2_test = \\\n",
    "    train_test_split(X1, X2, y1, y2, test_size=0.2)"
   ]
  },
  {
   "cell_type": "code",
   "execution_count": 84,
   "metadata": {},
   "outputs": [],
   "source": [
    "model_11 = RandomForestRegressor(n_estimators=100)\n",
    "model_12 = RandomForestRegressor(n_estimators=100)\n",
    "model_21 = RandomForestRegressor(n_estimators=100)\n",
    "model_22 = RandomForestRegressor(n_estimators=100)"
   ]
  },
  {
   "cell_type": "code",
   "execution_count": 85,
   "metadata": {},
   "outputs": [
    {
     "data": {
      "text/plain": [
       "RandomForestRegressor(bootstrap=True, criterion='mse', max_depth=None,\n",
       "                      max_features='auto', max_leaf_nodes=None,\n",
       "                      min_impurity_decrease=0.0, min_impurity_split=None,\n",
       "                      min_samples_leaf=1, min_samples_split=2,\n",
       "                      min_weight_fraction_leaf=0.0, n_estimators=100,\n",
       "                      n_jobs=None, oob_score=False, random_state=None,\n",
       "                      verbose=0, warm_start=False)"
      ]
     },
     "execution_count": 85,
     "metadata": {},
     "output_type": "execute_result"
    }
   ],
   "source": [
    "model_11.fit(X1_train, y1_train)\n",
    "model_12.fit(X1_train, y2_train)\n",
    "model_21.fit(X2_train, y1_train)\n",
    "model_22.fit(X2_train, y2_train)"
   ]
  },
  {
   "cell_type": "code",
   "execution_count": 86,
   "metadata": {},
   "outputs": [],
   "source": [
    "score_11 = mean_absolute_error(y1_test, model_11.predict(X1_test))\n",
    "score_12 = mean_absolute_error(y2_test, model_12.predict(X1_test))\n",
    "score_21 = mean_absolute_error(y1_test, model_21.predict(X2_test))\n",
    "score_22 = mean_absolute_error(y2_test, model_22.predict(X2_test))"
   ]
  },
  {
   "cell_type": "code",
   "execution_count": 87,
   "metadata": {},
   "outputs": [
    {
     "name": "stdout",
     "output_type": "stream",
     "text": [
      "0.000384319467149441 0.0007430684626557733 0.0004889102142923754 0.0010202162621454523\n"
     ]
    }
   ],
   "source": [
    "print(score_11, score_12, score_21, score_22)"
   ]
  },
  {
   "cell_type": "code",
   "execution_count": 89,
   "metadata": {},
   "outputs": [
    {
     "name": "stdout",
     "output_type": "stream",
     "text": [
      "0.03073030972208013 0.08123853839464416\n"
     ]
    }
   ],
   "source": [
    "print(np.mean(y1), y2.mean())"
   ]
  },
  {
   "cell_type": "markdown",
   "metadata": {},
   "source": [
    "Case 2: use another simulation as test"
   ]
  },
  {
   "cell_type": "code",
   "execution_count": 63,
   "metadata": {},
   "outputs": [],
   "source": [
    "sim_code_test = 'sf'\n",
    "slices_test =  read_pickle(path+f'slices_top_features_end_{sim_code_test}.pickle')"
   ]
  },
  {
   "cell_type": "code",
   "execution_count": 64,
   "metadata": {},
   "outputs": [],
   "source": [
    "model_11 = RandomForestRegressor(n_estimators=100)\n",
    "model_12 = RandomForestRegressor(n_estimators=100)\n",
    "model_21 = RandomForestRegressor(n_estimators=100)\n",
    "model_22 = RandomForestRegressor(n_estimators=100)"
   ]
  },
  {
   "cell_type": "code",
   "execution_count": 65,
   "metadata": {},
   "outputs": [
    {
     "data": {
      "text/plain": [
       "RandomForestRegressor(bootstrap=True, criterion='mse', max_depth=None,\n",
       "                      max_features='auto', max_leaf_nodes=None,\n",
       "                      min_impurity_decrease=0.0, min_impurity_split=None,\n",
       "                      min_samples_leaf=1, min_samples_split=2,\n",
       "                      min_weight_fraction_leaf=0.0, n_estimators=100,\n",
       "                      n_jobs=None, oob_score=False, random_state=None,\n",
       "                      verbose=0, warm_start=False)"
      ]
     },
     "execution_count": 65,
     "metadata": {},
     "output_type": "execute_result"
    }
   ],
   "source": [
    "model_11.fit(X1, y1)\n",
    "model_12.fit(X1, y2)\n",
    "model_21.fit(X2, y1)\n",
    "model_22.fit(X2, y2)"
   ]
  },
  {
   "cell_type": "code",
   "execution_count": 77,
   "metadata": {},
   "outputs": [],
   "source": [
    "x = loadmat(f'/Users/diegofiori/Desktop/epfl/master_thesis/k_perp_end_{sim_code_test}.mat')\n",
    "y_new = x['k_quantities']"
   ]
  },
  {
   "cell_type": "code",
   "execution_count": 68,
   "metadata": {},
   "outputs": [],
   "source": [
    "X1_new = np.concatenate([slices_test[i, :, j].reshape(-1, 1) for i, j in important_features_all], axis=1)\n",
    "X2_new = np.concatenate([slices_test[i, :, j].reshape(-1, 1) for i, j in important_features], axis=1)"
   ]
  },
  {
   "cell_type": "code",
   "execution_count": 78,
   "metadata": {},
   "outputs": [],
   "source": [
    "y_new = np.concatenate([y_new[i, :, :] for i in range(y_new.shape[0])])\n",
    "y_new = y_new[:len(X1_new)]\n",
    "y1_new = y_new[:, 0]\n",
    "y2_new = y_new[:, 1]"
   ]
  },
  {
   "cell_type": "code",
   "execution_count": 79,
   "metadata": {},
   "outputs": [
    {
     "data": {
      "text/plain": [
       "(7680,)"
      ]
     },
     "execution_count": 79,
     "metadata": {},
     "output_type": "execute_result"
    }
   ],
   "source": [
    "y1_new.shape"
   ]
  },
  {
   "cell_type": "code",
   "execution_count": 82,
   "metadata": {},
   "outputs": [],
   "source": [
    "score_11 = mean_absolute_error(y1_new, model_11.predict(X1_new))\n",
    "score_12 = mean_absolute_error(y2_new, model_12.predict(X1_new))\n",
    "score_21 = mean_absolute_error(y1_new, model_21.predict(X2_new))\n",
    "score_22 = mean_absolute_error(y2_new, model_22.predict(X2_new))"
   ]
  },
  {
   "cell_type": "code",
   "execution_count": 83,
   "metadata": {},
   "outputs": [
    {
     "name": "stdout",
     "output_type": "stream",
     "text": [
      "0.009043744755882745 0.0038099001060633493 0.009355945201310075 0.00471834558049169\n"
     ]
    }
   ],
   "source": [
    "print(score_11, score_12, score_21, score_22)"
   ]
  },
  {
   "cell_type": "code",
   "execution_count": 90,
   "metadata": {},
   "outputs": [
    {
     "name": "stdout",
     "output_type": "stream",
     "text": [
      "0.039276038699720475 0.08282099771353216\n"
     ]
    }
   ],
   "source": [
    "print(np.mean(y1_new), y2_new.mean())"
   ]
  },
  {
   "cell_type": "code",
   "execution_count": null,
   "metadata": {},
   "outputs": [],
   "source": []
  },
  {
   "cell_type": "code",
   "execution_count": null,
   "metadata": {},
   "outputs": [],
   "source": []
  },
  {
   "cell_type": "code",
   "execution_count": null,
   "metadata": {},
   "outputs": [],
   "source": []
  },
  {
   "cell_type": "code",
   "execution_count": null,
   "metadata": {},
   "outputs": [],
   "source": []
  },
  {
   "cell_type": "code",
   "execution_count": null,
   "metadata": {},
   "outputs": [],
   "source": []
  }
 ],
 "metadata": {
  "kernelspec": {
   "display_name": "Python 3",
   "language": "python",
   "name": "python3"
  },
  "language_info": {
   "codemirror_mode": {
    "name": "ipython",
    "version": 3
   },
   "file_extension": ".py",
   "mimetype": "text/x-python",
   "name": "python",
   "nbconvert_exporter": "python",
   "pygments_lexer": "ipython3",
   "version": "3.6.9"
  }
 },
 "nbformat": 4,
 "nbformat_minor": 2
}
