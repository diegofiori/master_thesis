{
 "cells": [
  {
   "cell_type": "code",
   "execution_count": 17,
   "metadata": {},
   "outputs": [],
   "source": [
    "import sys\n",
    "sys.path.append('../')\n",
    "from utils import read_pickle, write_pickle\n",
    "import numpy as np"
   ]
  },
  {
   "cell_type": "code",
   "execution_count": 183,
   "metadata": {},
   "outputs": [],
   "source": [
    "sim_code = 'sf'\n",
    "path = '/Users/diegofiori/Desktop/epfl/master_thesis/results/'"
   ]
  },
  {
   "cell_type": "code",
   "execution_count": 184,
   "metadata": {},
   "outputs": [],
   "source": [
    "equi_class_no_com = read_pickle(path=path+f'selected_equi_class_{sim_code}_no_comp.pickle')\n",
    "#equi_class_single = read_pickle(path=path+f'selected_equi_class_{sim_code}_single_field.pickle')\n",
    "equi_class_norm = read_pickle(path=path+f'selected_equi_class_{sim_code}.pickle')"
   ]
  },
  {
   "cell_type": "code",
   "execution_count": 5,
   "metadata": {},
   "outputs": [],
   "source": [
    "def union_equi_classes(equi_1, equi_2):\n",
    "    union_eq_classes = {i: equi_2[key] for i, key in enumerate(equi_2.keys())}\n",
    "    class_idx = len(union_eq_classes)\n",
    "    for key_1 in equi_1.keys():\n",
    "        set_temp_1 = set(equi_1[key_1])\n",
    "        for key_2 in equi_2.keys(): \n",
    "            set_res = set(equi_2[key_2]).intersection(set_temp_1)\n",
    "            if len(set_res) == 0:\n",
    "                union_eq_classes[class_idx] = equi_1[key_1]\n",
    "                class_idx += 1\n",
    "                break\n",
    "    return union_eq_classes\n",
    "\n",
    "def intersect_equi_classes(equi_1, equi_2):\n",
    "    common_eq_classes = {}\n",
    "    class_idx = 0\n",
    "    for key_1 in equi_1.keys():\n",
    "        set_temp_1 = set(equi_1[key_1])\n",
    "        for key_2 in equi_2.keys(): \n",
    "            set_res = set(equi_2[key_2]).intersection(set_temp_1)\n",
    "            if len(set_res) > 0:\n",
    "                common_eq_classes[class_idx] = list(set_res)\n",
    "                class_idx += 1\n",
    "    return common_eq_classes"
   ]
  },
  {
   "cell_type": "code",
   "execution_count": 185,
   "metadata": {},
   "outputs": [
    {
     "name": "stdout",
     "output_type": "stream",
     "text": [
      "129 216\n"
     ]
    }
   ],
   "source": [
    "#print(len(equi_class_norm), len(equi_class_no_com), len(equi_class_single))\n",
    "print(len(equi_class_norm), len(equi_class_no_com))\n"
   ]
  },
  {
   "cell_type": "code",
   "execution_count": 186,
   "metadata": {},
   "outputs": [],
   "source": [
    "#intersection_single = intersect_equi_classes(equi_class_norm, equi_class_single)\n",
    "intersection_comp = intersect_equi_classes(equi_class_norm, equi_class_no_com)"
   ]
  },
  {
   "cell_type": "code",
   "execution_count": 187,
   "metadata": {},
   "outputs": [
    {
     "name": "stdout",
     "output_type": "stream",
     "text": [
      "118\n"
     ]
    }
   ],
   "source": [
    "#print(len(intersection_single), len(intersection_comp))\n",
    "print(len(intersection_comp))"
   ]
  },
  {
   "cell_type": "code",
   "execution_count": 188,
   "metadata": {},
   "outputs": [],
   "source": [
    "#union_single = union_equi_classes(equi_class_norm, equi_class_single)\n",
    "union_comp = union_equi_classes(equi_class_norm, equi_class_no_com)"
   ]
  },
  {
   "cell_type": "code",
   "execution_count": 189,
   "metadata": {},
   "outputs": [
    {
     "name": "stdout",
     "output_type": "stream",
     "text": [
      "345\n"
     ]
    }
   ],
   "source": [
    "#print(len(union_single), len(union_comp))\n",
    "print(len(union_comp))"
   ]
  },
  {
   "cell_type": "markdown",
   "metadata": {},
   "source": [
    "# Train Model"
   ]
  },
  {
   "cell_type": "markdown",
   "metadata": {},
   "source": [
    "single train"
   ]
  },
  {
   "cell_type": "code",
   "execution_count": 20,
   "metadata": {},
   "outputs": [],
   "source": [
    "sim_code_train = 'eml'\n",
    "X_train_idx = read_pickle(path=path+f'selected_equi_class_{sim_code_train}.pickle')\n",
    "idx_temp = []\n",
    "for key in X_train_idx.keys():\n",
    "    idx_temp += X_train_idx[key]\n",
    "X_train_idx = list(set(idx_temp))\n",
    "X_train = read_pickle(path=path+f'slices_top_features_end_{sim_code_train}.pickle')\n",
    "X_train = np.concatenate([X_train[i, :, j].reshape(-1, 1) for i, j in X_train_idx], axis=1)"
   ]
  },
  {
   "cell_type": "code",
   "execution_count": 21,
   "metadata": {},
   "outputs": [
    {
     "data": {
      "text/plain": [
       "(7680, 62)"
      ]
     },
     "execution_count": 21,
     "metadata": {},
     "output_type": "execute_result"
    }
   ],
   "source": [
    "X_train.shape"
   ]
  },
  {
   "cell_type": "code",
   "execution_count": 24,
   "metadata": {},
   "outputs": [],
   "source": [
    "from scipy.io import loadmat\n",
    "sim_code_k = sim_code\n",
    "if sim_code.split('_')[-1] == 'comp':\n",
    "    sim_code_k = sim_code.split('_')[0]\n",
    "x = loadmat(f'/Users/diegofiori/Desktop/epfl/master_thesis/k_perp_end_{sim_code_k}.mat')\n",
    "y_train = x['k_quantities']"
   ]
  },
  {
   "cell_type": "code",
   "execution_count": 25,
   "metadata": {},
   "outputs": [],
   "source": [
    "y_train = np.concatenate([y_train[i, :, :] for i in range(y_train.shape[0])])"
   ]
  },
  {
   "cell_type": "code",
   "execution_count": 27,
   "metadata": {},
   "outputs": [
    {
     "data": {
      "text/plain": [
       "(8000, 2)"
      ]
     },
     "execution_count": 27,
     "metadata": {},
     "output_type": "execute_result"
    }
   ],
   "source": [
    "y_train.shape"
   ]
  },
  {
   "cell_type": "code",
   "execution_count": 28,
   "metadata": {},
   "outputs": [],
   "source": [
    "y_train = y_train[:len(X_train)]"
   ]
  },
  {
   "cell_type": "code",
   "execution_count": 191,
   "metadata": {},
   "outputs": [],
   "source": [
    "def get_all_indeces(sim_codes):\n",
    "    indeces = []\n",
    "    for sim in sim_codes:\n",
    "        dict_temp = read_pickle(path=path+f'selected_equi_class_{sim}.pickle')\n",
    "        for key in dict_temp.keys():\n",
    "            indeces += dict_temp[key] \n",
    "    return list(set(indeces))"
   ]
  },
  {
   "cell_type": "code",
   "execution_count": 195,
   "metadata": {},
   "outputs": [],
   "source": [
    "def get_data(sim_codes, path, indx=None):\n",
    "    Xs = []\n",
    "    ys = []\n",
    "    if indx is None:\n",
    "        indx = get_all_indeces(sim_codes)\n",
    "    for sim_code in sim_codes:\n",
    "        x_temp = read_pickle(path=path+f'slices_top_features_end_{sim_code}.pickle')\n",
    "        x_temp = np.concatenate([x_temp[i, :, j].reshape(-1, 1) for i, j in indx], axis=1)\n",
    "        Xs.append(x_temp)\n",
    "        \n",
    "        sim_code_k = sim_code\n",
    "        if sim_code.split('_')[-1] == 'comp':\n",
    "            sim_code_k = sim_code.split('_')[0]\n",
    "        temp = loadmat(f'/Users/diegofiori/Desktop/epfl/master_thesis/k_perp_end_{sim_code_k}.mat')\n",
    "        y_temp = temp['k_quantities']\n",
    "        y_temp = np.concatenate([y_temp[i, :, :] for i in range(y_temp.shape[0])])\n",
    "        y_temp = y_temp[:len(x_temp)]\n",
    "        ys.append(y_temp)\n",
    "    return np.concatenate(Xs), np.concatenate(ys)"
   ]
  },
  {
   "cell_type": "code",
   "execution_count": 108,
   "metadata": {},
   "outputs": [],
   "source": [
    "sim_code_train = 'eml'"
   ]
  },
  {
   "cell_type": "code",
   "execution_count": 274,
   "metadata": {},
   "outputs": [],
   "source": [
    "train_sims = ['eml', 'hs']\n",
    "X_train, y_train =  get_data(train_sims, path)"
   ]
  },
  {
   "cell_type": "code",
   "execution_count": 275,
   "metadata": {},
   "outputs": [],
   "source": [
    "test_sims = ['ds', 'nu2', 'qs']\n",
    "X_test, y_test = get_data(test_sims, path, \n",
    "                          indx=get_all_indeces(train_sims)\n",
    "                         )"
   ]
  },
  {
   "cell_type": "code",
   "execution_count": 276,
   "metadata": {},
   "outputs": [],
   "source": [
    "from sklearn.ensemble import RandomForestRegressor"
   ]
  },
  {
   "cell_type": "code",
   "execution_count": 277,
   "metadata": {},
   "outputs": [],
   "source": [
    "model_1 = RandomForestRegressor(n_estimators=2000, n_jobs=-1)\n",
    "model_2 = RandomForestRegressor(n_estimators=2000, n_jobs=-1)"
   ]
  },
  {
   "cell_type": "code",
   "execution_count": 278,
   "metadata": {},
   "outputs": [
    {
     "data": {
      "text/plain": [
       "-4.317081627036832"
      ]
     },
     "execution_count": 278,
     "metadata": {},
     "output_type": "execute_result"
    }
   ],
   "source": [
    "model_1.fit(X_train, y_train[:, 0])\n",
    "model_1.score(X_test, y_test[:, 0])"
   ]
  },
  {
   "cell_type": "code",
   "execution_count": 279,
   "metadata": {},
   "outputs": [],
   "source": [
    "from sklearn.metrics import mean_absolute_error"
   ]
  },
  {
   "cell_type": "code",
   "execution_count": 280,
   "metadata": {},
   "outputs": [],
   "source": [
    "def get_prediction_per_sim(model, x_test, y_test, test_sims, n_samples=7680):\n",
    "    for i, sim in enumerate(test_sims):\n",
    "        print(f\"evaluating simulation {sim}\")\n",
    "        y_temp = y_test[i*n_samples: (i+1)*n_samples]\n",
    "        x_temp = x_test[i*n_samples: (i+1)*n_samples]\n",
    "        score = model.score(x_temp, y_temp)\n",
    "        print(f\"score: {score}\")\n",
    "        MAE = mean_absolute_error(y_temp, model.predict(x_temp))\n",
    "        print(f\"MAE: {MAE}\\nMAE%: {MAE/y_temp.mean()}\")\n",
    "        if len(y_test.shape) > 1 and y_test.shape[1] > 1:\n",
    "            double_mae = np.abs(model.predict(x_temp) - y_temp).mean(axis=0)\n",
    "            print(f'double MAE: {double_mae}')\n",
    "            print(f'double MAE%: {double_mae/y_temp.mean(axis=0)}')\n",
    "        "
   ]
  },
  {
   "cell_type": "code",
   "execution_count": 281,
   "metadata": {},
   "outputs": [
    {
     "data": {
      "text/plain": [
       "(23040, 2)"
      ]
     },
     "execution_count": 281,
     "metadata": {},
     "output_type": "execute_result"
    }
   ],
   "source": [
    "y_test.shape"
   ]
  },
  {
   "cell_type": "code",
   "execution_count": 282,
   "metadata": {},
   "outputs": [
    {
     "name": "stdout",
     "output_type": "stream",
     "text": [
      "evaluating simulation ds\n",
      "score: -7.45671741556218\n",
      "MAE: 0.010945440802298848\n",
      "MAE%: 0.39033259994055863\n",
      "evaluating simulation nu2\n",
      "score: -2.4669772417319584\n",
      "MAE: 0.004853617906164219\n",
      "MAE%: 0.18422274425119115\n",
      "evaluating simulation qs\n",
      "score: -1.7881699140395464\n",
      "MAE: 0.004374697804151178\n",
      "MAE%: 0.1561302389633777\n"
     ]
    }
   ],
   "source": [
    "get_prediction_per_sim(model_1, X_test, y_test[:, 0], test_sims)"
   ]
  },
  {
   "cell_type": "code",
   "execution_count": null,
   "metadata": {},
   "outputs": [],
   "source": [
    "model_2.fit(X_train, y_train[:, 1])"
   ]
  },
  {
   "cell_type": "code",
   "execution_count": null,
   "metadata": {},
   "outputs": [],
   "source": [
    "get_prediction_per_sim(model_2, X_test, y_test[:, 1], test_sims)"
   ]
  },
  {
   "cell_type": "code",
   "execution_count": null,
   "metadata": {},
   "outputs": [],
   "source": [
    "model = RandomForestRegressor(n_estimators=2000, n_jobs=-1)"
   ]
  },
  {
   "cell_type": "code",
   "execution_count": null,
   "metadata": {},
   "outputs": [],
   "source": [
    "model.fit(X_train, y_train)\n",
    "model.score(X_test, y_test)"
   ]
  },
  {
   "cell_type": "code",
   "execution_count": null,
   "metadata": {},
   "outputs": [],
   "source": [
    "get_prediction_per_sim(model, X_test, y_test, test_sims)"
   ]
  },
  {
   "cell_type": "code",
   "execution_count": null,
   "metadata": {},
   "outputs": [],
   "source": []
  },
  {
   "cell_type": "code",
   "execution_count": null,
   "metadata": {},
   "outputs": [],
   "source": []
  },
  {
   "cell_type": "code",
   "execution_count": null,
   "metadata": {},
   "outputs": [],
   "source": []
  }
 ],
 "metadata": {
  "kernelspec": {
   "display_name": "Python 3",
   "language": "python",
   "name": "python3"
  },
  "language_info": {
   "codemirror_mode": {
    "name": "ipython",
    "version": 3
   },
   "file_extension": ".py",
   "mimetype": "text/x-python",
   "name": "python",
   "nbconvert_exporter": "python",
   "pygments_lexer": "ipython3",
   "version": "3.8.1"
  }
 },
 "nbformat": 4,
 "nbformat_minor": 4
}
