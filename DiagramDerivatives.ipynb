{
 "cells": [
  {
   "cell_type": "code",
   "execution_count": 1,
   "metadata": {},
   "outputs": [],
   "source": [
    "import sys\n",
    "sys.path.append('/Users/diegofiori/Desktop/epfl/master_thesis/master_thesis/')"
   ]
  },
  {
   "cell_type": "code",
   "execution_count": 4,
   "metadata": {},
   "outputs": [],
   "source": [
    "from simulation import Simulation\n",
    "from input_reader import ImageReader\n",
    "from diagram_derivatives import DiagramDerivative\n",
    "%load_ext autoreload\n",
    "%autoreload 2"
   ]
  },
  {
   "cell_type": "code",
   "execution_count": 9,
   "metadata": {},
   "outputs": [],
   "source": [
    "from giotto.homology import CubicalPersistence"
   ]
  },
  {
   "cell_type": "code",
   "execution_count": 5,
   "metadata": {},
   "outputs": [],
   "source": [
    "simulation = Simulation('/Users/diegofiori/Desktop/epfl/master_thesis/Reverse/results_132.h5')"
   ]
  },
  {
   "cell_type": "code",
   "execution_count": 7,
   "metadata": {},
   "outputs": [],
   "source": [
    "image_reader = ImageReader()\n",
    "images = image_reader.read('/Users/diegofiori/Desktop/epfl/master_thesis/Reverse/results_132.h5')"
   ]
  },
  {
   "cell_type": "code",
   "execution_count": 49,
   "metadata": {},
   "outputs": [
    {
     "data": {
      "text/plain": [
       "(2400, 244, 324)"
      ]
     },
     "execution_count": 49,
     "metadata": {},
     "output_type": "execute_result"
    }
   ],
   "source": [
    "images.shape"
   ]
  },
  {
   "cell_type": "code",
   "execution_count": 46,
   "metadata": {},
   "outputs": [],
   "source": [
    "diagrams = CubicalPersistence(n_jobs=1).fit_transform(images)"
   ]
  },
  {
   "cell_type": "code",
   "execution_count": 50,
   "metadata": {},
   "outputs": [
    {
     "data": {
      "text/plain": [
       "(2400, 715, 3)"
      ]
     },
     "execution_count": 50,
     "metadata": {},
     "output_type": "execute_result"
    }
   ],
   "source": [
    "diagrams.shape"
   ]
  },
  {
   "cell_type": "code",
   "execution_count": 20,
   "metadata": {},
   "outputs": [],
   "source": [
    "import numpy as np"
   ]
  },
  {
   "cell_type": "code",
   "execution_count": 27,
   "metadata": {},
   "outputs": [],
   "source": [
    "def select_diagrams_for_fixed_angle(diagrams, angle_ind, info):\n",
    "    inner_order = info['inner_sequence']\n",
    "    inner_nb = [info[key] for key in inner_order]\n",
    "    list_of_qs = []\n",
    "    new_diagrams = []\n",
    "    k = 1\n",
    "    for i in range(0, len(diagrams), inner_nb[0]):\n",
    "        if i >= inner_nb[0] * inner_nb[1] * k:\n",
    "            list_of_qs.append(np.concatenate(new_diagrams))\n",
    "            k += 1\n",
    "            new_diagrams = []\n",
    "           \n",
    "        new_diagrams.append(np.expand_dims(diagrams[i+angle_ind], axis=0))\n",
    "    list_of_qs.append(new_diagrams)\n",
    "    return list_of_qs"
   ]
  },
  {
   "cell_type": "code",
   "execution_count": 56,
   "metadata": {},
   "outputs": [],
   "source": [
    "diagrams_angle_0_for_qs = select_diagrams_for_fixed_angle(diagrams, 0, image_reader.structure_)"
   ]
  },
  {
   "cell_type": "code",
   "execution_count": 57,
   "metadata": {},
   "outputs": [],
   "source": [
    "diagram_angle_0_density = diagrams_angle_0_for_qs[0]"
   ]
  },
  {
   "cell_type": "code",
   "execution_count": 58,
   "metadata": {
    "scrolled": true
   },
   "outputs": [
    {
     "data": {
      "text/plain": [
       "array([[[ -3.1344161 ,   1.74782515,   0.        ],\n",
       "        [ -2.82930326,  -1.63381732,   0.        ],\n",
       "        [ -2.25594354,  -1.78315163,   0.        ],\n",
       "        ...,\n",
       "        [-89.86339569, -89.86339569,   1.        ],\n",
       "        [-89.86339569, -89.86339569,   1.        ],\n",
       "        [-89.86339569, -89.86339569,   1.        ]],\n",
       "\n",
       "       [[ -3.10172772,   1.74749136,   0.        ],\n",
       "        [ -2.81804609,  -1.66579366,   0.        ],\n",
       "        [ -2.25497651,  -1.78459132,   0.        ],\n",
       "        ...,\n",
       "        [-89.86339569, -89.86339569,   1.        ],\n",
       "        [-89.86339569, -89.86339569,   1.        ],\n",
       "        [-89.86339569, -89.86339569,   1.        ]],\n",
       "\n",
       "       [[ -3.08099341,   1.74722672,   0.        ],\n",
       "        [ -2.82171583,  -1.68491161,   0.        ],\n",
       "        [ -2.25427723,  -1.7808181 ,   0.        ],\n",
       "        ...,\n",
       "        [-89.86339569, -89.86339569,   1.        ],\n",
       "        [-89.86339569, -89.86339569,   1.        ],\n",
       "        [-89.86339569, -89.86339569,   1.        ]],\n",
       "\n",
       "       [[ -3.06822753,   1.74710155,   0.        ],\n",
       "        [ -2.83094287,  -1.69656396,   0.        ],\n",
       "        [ -2.25392151,  -1.77232909,   0.        ],\n",
       "        ...,\n",
       "        [-89.86339569, -89.86339569,   1.        ],\n",
       "        [-89.86339569, -89.86339569,   1.        ],\n",
       "        [-89.86339569, -89.86339569,   1.        ]],\n",
       "\n",
       "       [[ -3.06032825,   1.74699378,   0.        ],\n",
       "        [ -2.84141421,  -1.71829271,   0.        ],\n",
       "        [ -2.25405097,  -1.75994086,   0.        ],\n",
       "        ...,\n",
       "        [-89.86339569, -89.86339569,   1.        ],\n",
       "        [-89.86339569, -89.86339569,   1.        ],\n",
       "        [-89.86339569, -89.86339569,   1.        ]]])"
      ]
     },
     "execution_count": 58,
     "metadata": {},
     "output_type": "execute_result"
    }
   ],
   "source": [
    "diagram_angle_0_density"
   ]
  },
  {
   "cell_type": "code",
   "execution_count": 53,
   "metadata": {},
   "outputs": [
    {
     "data": {
      "text/plain": [
       "5"
      ]
     },
     "execution_count": 53,
     "metadata": {},
     "output_type": "execute_result"
    }
   ],
   "source": [
    "len(diagram_angle_0_density) # nb of time steps "
   ]
  },
  {
   "cell_type": "code",
   "execution_count": 67,
   "metadata": {},
   "outputs": [],
   "source": [
    "from giotto.diagrams import PairwiseDistance"
   ]
  },
  {
   "cell_type": "code",
   "execution_count": 92,
   "metadata": {},
   "outputs": [
    {
     "name": "stdout",
     "output_type": "stream",
     "text": [
      "{'metric': 'landscape', 'metric_params': None, 'n_jobs': None, 'order': 2.0}\n"
     ]
    },
    {
     "data": {
      "text/plain": [
       "array([[0.        , 0.05473399],\n",
       "       [0.05473399, 0.        ]])"
      ]
     },
     "execution_count": 92,
     "metadata": {},
     "output_type": "execute_result"
    }
   ],
   "source": [
    "PairwiseDistance().fit_transform(np.concatenate([np.expand_dims(diagram_angle_0_density[0], axis=0), np.expand_dims(diagram_angle_0_density[1], axis=0)]))"
   ]
  },
  {
   "cell_type": "code",
   "execution_count": 97,
   "metadata": {},
   "outputs": [
    {
     "name": "stdout",
     "output_type": "stream",
     "text": [
      "{'h': None, 'metric': 'heat', 'metric_params': None, 'n_jobs': -1, 'order': 2.0}\n"
     ]
    }
   ],
   "source": [
    "diagram_derivative = DiagramDerivative(metric='heat', n_jobs=-1).fit_transform(diagram_angle_0_density)"
   ]
  },
  {
   "cell_type": "code",
   "execution_count": 98,
   "metadata": {},
   "outputs": [
    {
     "data": {
      "text/plain": [
       "array([0.45939712, 0.67970666, 0.62160047, 0.50318071])"
      ]
     },
     "execution_count": 98,
     "metadata": {},
     "output_type": "execute_result"
    }
   ],
   "source": [
    "diagram_derivative"
   ]
  },
  {
   "cell_type": "code",
   "execution_count": 39,
   "metadata": {},
   "outputs": [],
   "source": [
    "def select_diagrams_for_fixed_time(diagrams, time_ind, info):\n",
    "    inner_order = info['inner_sequence']\n",
    "    inner_nb = [info[key] for key in inner_order]\n",
    "    list_of_qs = []\n",
    "    for i in range(0, len(diagrams), inner_nb[0]*inner_nb[1]):\n",
    "        new_diagrams = diagrams[i + inner_nb[1]*time_ind: i + inner_nb[1]*time_ind + inner_nb[0]]\n",
    "        new_diagrams = np.concatenate([new_diagrams, np.expand_dims(diagrams[i + inner_nb[1]*time_ind], axis=0)])\n",
    "        list_of_qs.append(new_diagrams)\n",
    "    return list_of_qs"
   ]
  },
  {
   "cell_type": "code",
   "execution_count": 72,
   "metadata": {},
   "outputs": [],
   "source": [
    "diagrams_time_0_for_qs = select_diagrams_for_fixed_time(diagrams, 0, image_reader.structure_)"
   ]
  },
  {
   "cell_type": "code",
   "execution_count": 73,
   "metadata": {},
   "outputs": [],
   "source": [
    "diagrams_time_0_for_density = diagrams_time_0_for_qs[0]"
   ]
  },
  {
   "cell_type": "code",
   "execution_count": 99,
   "metadata": {},
   "outputs": [
    {
     "name": "stdout",
     "output_type": "stream",
     "text": [
      "{'h': None, 'metric': 'heat', 'metric_params': None, 'n_jobs': -1, 'order': 2.0}\n"
     ]
    }
   ],
   "source": [
    "diagram_space_derivatives = DiagramDerivative(metric='heat', n_jobs=-1).fit_transform(diagrams_time_0_for_density)"
   ]
  },
  {
   "cell_type": "code",
   "execution_count": 100,
   "metadata": {
    "scrolled": true
   },
   "outputs": [
    {
     "data": {
      "text/plain": [
       "array([0.52378086, 0.53785959, 0.45939704, 0.56744695, 0.55175683,\n",
       "       0.42230597, 0.53785936, 0.42824045, 0.61664316, 0.4593968 ,\n",
       "       0.48312162, 0.51229558, 0.53785919, 0.42824033, 0.42230578,\n",
       "       0.53308358, 0.53308357, 0.53308357, 0.53308358, 0.42230578,\n",
       "       0.42230579, 0.4223058 , 0.42230581, 0.42230583, 0.42230584,\n",
       "       0.42230586, 0.42230588, 0.4223059 , 0.42230593, 0.42230595,\n",
       "       0.42230598, 0.53785945, 0.42230604, 0.42230607, 0.4223061 ,\n",
       "       0.42230614, 0.42230617, 0.42230623, 0.42824083, 0.53785987,\n",
       "       0.42230638, 0.42824099, 0.53786006, 0.42230653, 0.42230657,\n",
       "       0.42230661, 0.42230665, 0.42230668, 0.42230672, 0.42230674,\n",
       "       0.42230677, 0.4827204 , 0.60231291, 0.42230682, 0.42230683,\n",
       "       0.43564352, 0.42230683, 0.42230683, 0.42230683, 0.42230683,\n",
       "       0.42230682, 0.4223068 , 0.43564347, 0.62916908, 0.43476083,\n",
       "       0.53308478, 0.43476077, 0.45405608, 0.42230662, 0.42230659,\n",
       "       0.42230656, 0.42230652, 0.42230648, 0.42230645, 0.53785996,\n",
       "       0.42824091, 0.42230632, 0.42230628, 0.53785975, 0.4223062 ])"
      ]
     },
     "execution_count": 100,
     "metadata": {},
     "output_type": "execute_result"
    }
   ],
   "source": [
    "diagram_space_derivatives"
   ]
  },
  {
   "cell_type": "code",
   "execution_count": null,
   "metadata": {},
   "outputs": [],
   "source": []
  },
  {
   "cell_type": "code",
   "execution_count": 84,
   "metadata": {},
   "outputs": [],
   "source": [
    "from giotto.diagrams import Amplitude"
   ]
  },
  {
   "cell_type": "code",
   "execution_count": 90,
   "metadata": {},
   "outputs": [
    {
     "data": {
      "text/plain": [
       "array([[3.54380003],\n",
       "       [3.52979025],\n",
       "       [3.5273665 ],\n",
       "       [3.5323529 ],\n",
       "       [3.53340377]])"
      ]
     },
     "execution_count": 90,
     "metadata": {},
     "output_type": "execute_result"
    }
   ],
   "source": [
    "Amplitude(n_jobs=-1).fit_transform(diagram_angle_0_density)"
   ]
  },
  {
   "cell_type": "code",
   "execution_count": 89,
   "metadata": {
    "scrolled": true
   },
   "outputs": [
    {
     "data": {
      "text/plain": [
       "array([[4.31539328],\n",
       "       [4.31616499],\n",
       "       [4.31699677],\n",
       "       [4.31776437],\n",
       "       [4.3184162 ],\n",
       "       [3.54609193],\n",
       "       [2.54660247],\n",
       "       [2.54327846],\n",
       "       [2.53975183],\n",
       "       [2.53606174],\n",
       "       [2.53225894],\n",
       "       [4.31923818],\n",
       "       [4.31980377],\n",
       "       [4.32050153],\n",
       "       [4.32141204],\n",
       "       [4.32257051],\n",
       "       [2.52840934],\n",
       "       [2.52459803],\n",
       "       [2.52092897],\n",
       "       [2.5175225 ],\n",
       "       [2.51450953],\n",
       "       [4.32395319],\n",
       "       [4.32547452],\n",
       "       [4.32699891],\n",
       "       [4.32836466],\n",
       "       [4.32941747],\n",
       "       [2.51202251],\n",
       "       [2.51018405],\n",
       "       [2.50909596],\n",
       "       [2.50882878],\n",
       "       [2.50941408],\n",
       "       [4.33004799],\n",
       "       [4.33022024],\n",
       "       [4.32997875],\n",
       "       [4.32943682],\n",
       "       [4.3287432 ],\n",
       "       [2.51084197],\n",
       "       [2.51306157],\n",
       "       [2.51598645],\n",
       "       [2.51950478],\n",
       "       [2.52348868],\n",
       "       [4.32801416],\n",
       "       [4.32735372],\n",
       "       [4.32682853],\n",
       "       [4.32646971],\n",
       "       [4.32627892],\n",
       "       [2.52778654],\n",
       "       [2.53225393],\n",
       "       [2.53675137],\n",
       "       [2.54114846],\n",
       "       [2.54532653],\n",
       "       [4.32623047],\n",
       "       [4.32626597],\n",
       "       [4.32629271],\n",
       "       [4.32618742],\n",
       "       [4.32581637],\n",
       "       [2.54918151],\n",
       "       [2.55262442],\n",
       "       [2.55558296],\n",
       "       [2.55800277],\n",
       "       [2.55984852],\n",
       "       [4.32506603],\n",
       "       [4.32388145],\n",
       "       [4.32229652],\n",
       "       [4.32044579],\n",
       "       [4.31854717],\n",
       "       [2.56110334],\n",
       "       [2.56176882],\n",
       "       [2.56186215],\n",
       "       [2.56141333],\n",
       "       [2.56046266],\n",
       "       [4.31685417],\n",
       "       [4.31558205],\n",
       "       [4.31486728],\n",
       "       [4.31473083],\n",
       "       [4.31508323],\n",
       "       [2.55905562],\n",
       "       [2.55723385],\n",
       "       [2.55504047],\n",
       "       [2.55251458],\n",
       "       [2.54969139]])"
      ]
     },
     "execution_count": 89,
     "metadata": {},
     "output_type": "execute_result"
    }
   ],
   "source": [
    "Amplitude(n_jobs=-1).fit_transform(diagrams_time_0_for_density)"
   ]
  },
  {
   "cell_type": "code",
   "execution_count": null,
   "metadata": {},
   "outputs": [],
   "source": []
  },
  {
   "cell_type": "code",
   "execution_count": null,
   "metadata": {},
   "outputs": [],
   "source": []
  }
 ],
 "metadata": {
  "kernelspec": {
   "display_name": "Python 3",
   "language": "python",
   "name": "python3"
  },
  "language_info": {
   "codemirror_mode": {
    "name": "ipython",
    "version": 3
   },
   "file_extension": ".py",
   "mimetype": "text/x-python",
   "name": "python",
   "nbconvert_exporter": "python",
   "pygments_lexer": "ipython3",
   "version": "3.6.9"
  }
 },
 "nbformat": 4,
 "nbformat_minor": 2
}
